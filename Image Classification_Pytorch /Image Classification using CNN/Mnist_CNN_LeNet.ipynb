{
 "cells": [
  {
   "cell_type": "code",
   "execution_count": 1,
   "metadata": {
    "colab": {},
    "colab_type": "code",
    "id": "7VG0BEE4cC5A"
   },
   "outputs": [],
   "source": [
    "import pandas as pd\n",
    "import numpy as np\n",
    "import matplotlib.pyplot as plt\n",
    "\n",
    "import torch\n",
    "import torchvision"
   ]
  },
  {
   "cell_type": "code",
   "execution_count": 2,
   "metadata": {
    "colab": {},
    "colab_type": "code",
    "id": "eTaG3o3mpZ9F"
   },
   "outputs": [],
   "source": [
    "import torchvision.transforms as transforms\n",
    "batch_size =128\n",
    "trainset = torchvision.datasets.MNIST(root='./data', train=True, download =True, transform = transforms.ToTensor())\n",
    "trainloader = torch.utils.data.DataLoader(trainset, batch_size =batch_size, shuffle=True)\n",
    "\n",
    "\n",
    "testset = torchvision.datasets.MNIST(root='./data', train=False, download =True, transform = transforms.ToTensor())\n",
    "testloader = torch.utils.data.DataLoader(testset, batch_size =batch_size, shuffle=False)"
   ]
  },
  {
   "cell_type": "code",
   "execution_count": 3,
   "metadata": {
    "colab": {},
    "colab_type": "code",
    "id": "z9x8dAIHhVrM"
   },
   "outputs": [],
   "source": [
    "import torch.nn as nn\n",
    "import torch.nn.functional as F"
   ]
  },
  {
   "cell_type": "code",
   "execution_count": null,
   "metadata": {
    "colab": {},
    "colab_type": "code",
    "id": "wrpBPwoYhe33"
   },
   "outputs": [],
   "source": []
  },
  {
   "cell_type": "code",
   "execution_count": 2,
   "metadata": {
    "colab": {},
    "colab_type": "code",
    "id": "2AJcDVXOzHp-"
   },
   "outputs": [],
   "source": [
    "import torch.nn as nn\n",
    "\n",
    "class ConvNet(nn.Module):\n",
    "    \n",
    "    def __init__(self):\n",
    "        super(ConvNet, self).__init__()\n",
    "        self.cnn_model = nn.Sequential(\n",
    "        nn.Conv2d(1, 6, 5), # (N, 1, 28, 28) -> (N, 6, 24, 24 ) \n",
    "        # N - Number of batches. 1 -single channel , 6 - 6 channel, 5 - Filter size\n",
    "        nn.Tanh(),\n",
    "        nn.AvgPool2d(2, stride=2), # (N,6, 24, 24) -> (N, 6, 12, 12)\n",
    "        nn.Conv2d(6, 16, 5), # (N, 6, 12, 12) -> (N, 16,8, 8 )\n",
    "        nn.Tanh(),\n",
    "        nn.AvgPool2d(2, stride =2) #(N, 16, 8,8) -> (N, 16, 4,4)\n",
    "\n",
    "    )\n",
    "        self.fc_model = nn.Sequential(\n",
    "        nn.Linear(256, 120),\n",
    "        nn.Tanh(),\n",
    "        nn.Linear(120,84),\n",
    "        nn.Tanh(),\n",
    "        nn.Linear(84, 10)\n",
    "    )\n",
    "\n",
    "    def forward(self,x):\n",
    "        x = self.cnn_model(x)\n",
    "        x = x.view(x.size(0), -1)\n",
    "        x = self.fc_model(x)\n",
    "        return x"
   ]
  },
  {
   "cell_type": "code",
   "execution_count": 0,
   "metadata": {
    "colab": {},
    "colab_type": "code",
    "id": "8ve3lFXGhiQn"
   },
   "outputs": [],
   "source": []
  },
  {
   "cell_type": "code",
   "execution_count": 0,
   "metadata": {
    "colab": {},
    "colab_type": "code",
    "id": "cejxewWhiwuN"
   },
   "outputs": [],
   "source": [
    "model = ConvNet()"
   ]
  },
  {
   "cell_type": "code",
   "execution_count": 245,
   "metadata": {
    "colab": {
     "base_uri": "https://localhost:8080/",
     "height": 312
    },
    "colab_type": "code",
    "id": "sStGNC2Ejoov",
    "outputId": "635c5ffa-9482-416c-a3e4-fb40d5d428ba"
   },
   "outputs": [
    {
     "data": {
      "text/plain": [
       "ConvNet(\n",
       "  (cnn_model): Sequential(\n",
       "    (0): Conv2d(1, 6, kernel_size=(5, 5), stride=(1, 1))\n",
       "    (1): Tanh()\n",
       "    (2): AvgPool2d(kernel_size=2, stride=2, padding=0)\n",
       "    (3): Conv2d(6, 16, kernel_size=(5, 5), stride=(1, 1))\n",
       "    (4): Tanh()\n",
       "    (5): AvgPool2d(kernel_size=2, stride=2, padding=0)\n",
       "  )\n",
       "  (fc_model): Sequential(\n",
       "    (0): Linear(in_features=256, out_features=120, bias=True)\n",
       "    (1): Tanh()\n",
       "    (2): Linear(in_features=120, out_features=84, bias=True)\n",
       "    (3): Tanh()\n",
       "    (4): Linear(in_features=84, out_features=10, bias=True)\n",
       "  )\n",
       ")"
      ]
     },
     "execution_count": 245,
     "metadata": {
      "tags": []
     },
     "output_type": "execute_result"
    }
   ],
   "source": [
    "model"
   ]
  },
  {
   "cell_type": "code",
   "execution_count": 0,
   "metadata": {
    "colab": {},
    "colab_type": "code",
    "id": "kTTJsFuzjpdT"
   },
   "outputs": [],
   "source": []
  },
  {
   "cell_type": "code",
   "execution_count": 0,
   "metadata": {
    "colab": {},
    "colab_type": "code",
    "id": "L4BmOS3Sj4DM"
   },
   "outputs": [],
   "source": []
  },
  {
   "cell_type": "code",
   "execution_count": 0,
   "metadata": {
    "colab": {},
    "colab_type": "code",
    "id": "bBmdP9qhj-th"
   },
   "outputs": [],
   "source": [
    "learning_rate = 0.001\n",
    "criterian = nn.CrossEntropyLoss()"
   ]
  },
  {
   "cell_type": "code",
   "execution_count": 0,
   "metadata": {
    "colab": {},
    "colab_type": "code",
    "id": "aUgS9_OOkGkM"
   },
   "outputs": [],
   "source": [
    "optimizer = torch.optim.Adam(model.parameters(), lr =learning_rate)"
   ]
  },
  {
   "cell_type": "code",
   "execution_count": 249,
   "metadata": {
    "colab": {
     "base_uri": "https://localhost:8080/",
     "height": 300
    },
    "colab_type": "code",
    "id": "3nJTas0ckSmm",
    "outputId": "45e668e6-9224-4bfd-a057-a261294b5c12"
   },
   "outputs": [
    {
     "data": {
      "image/png": "[encoded data removed]",
      "text/plain": [
       "<Figure size 432x288 with 1 Axes>"
      ]
     },
     "metadata": {
      "needs_background": "light",
      "tags": []
     },
     "output_type": "display_data"
    },
    {
     "name": "stdout",
     "output_type": "stream",
     "text": [
      "CPU times: user 2min 38s, sys: 699 ms, total: 2min 39s\n",
      "Wall time: 2min 39s\n"
     ]
    }
   ],
   "source": [
    "\n",
    "\n",
    "%%time\n",
    "loss_arr = []\n",
    "loss_epochs_arr = []\n",
    "\n",
    "for epoch in range(16):\n",
    "    \n",
    "    for i, data in enumerate(trainloader, 0):\n",
    "     inputs, labels =data\n",
    "    optimizer.zero_grad()\n",
    "\n",
    "    outputs = model(inputs)\n",
    "    loss = criterian(outputs, labels)\n",
    "    optimizer.step()\n",
    "\n",
    "    loss_arr.append(loss.item())\n",
    "    #print(loss.item())\n",
    "\n",
    "  loss_epochs_arr.append(loss.item())\n",
    "  \n",
    "\n",
    "#print(loss[-1])\n",
    "plt.plot(loss_epochs_arr)\n",
    "plt.show()\n",
    "\n"
   ]
  },
  {
   "cell_type": "code",
   "execution_count": 0,
   "metadata": {
    "colab": {},
    "colab_type": "code",
    "id": "bvBFXbpMkyAy"
   },
   "outputs": [],
   "source": []
  }
 ],
 "metadata": {
  "accelerator": "GPU",
  "colab": {
   "collapsed_sections": [],
   "name": "Mnist_CNN_LeNet.ipynb",
   "provenance": []
  },
  "kernelspec": {
   "display_name": "Python 3",
   "language": "python",
   "name": "python3"
  },
  "language_info": {
   "codemirror_mode": {
    "name": "ipython",
    "version": 3
   },
   "file_extension": ".py",
   "mimetype": "text/x-python",
   "name": "python",
   "nbconvert_exporter": "python",
   "pygments_lexer": "ipython3",
   "version": "3.7.4"
  }
 },
 "nbformat": 4,
 "nbformat_minor": 1
}
