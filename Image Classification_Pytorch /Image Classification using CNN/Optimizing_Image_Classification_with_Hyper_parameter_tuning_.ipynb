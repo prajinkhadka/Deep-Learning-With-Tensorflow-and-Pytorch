{
 "cells": [
  {
   "cell_type": "code",
   "execution_count": 0,
   "metadata": {
    "colab": {},
    "colab_type": "code",
    "id": "ziJL0eN00GF0"
   },
   "outputs": [],
   "source": [
    "import numpy as np\n",
    "import matplotlib.pyplot as plt\n",
    "\n",
    "import torch\n",
    "import torchvision\n",
    "\n",
    "import torch.nn as nn\n",
    "import torch.nn.functional as F\n",
    "import torchvision.transforms as transforms"
   ]
  },
  {
   "cell_type": "code",
   "execution_count": 0,
   "metadata": {
    "colab": {},
    "colab_type": "code",
    "id": "f3ZkHFL40oJJ"
   },
   "outputs": [],
   "source": [
    "mean = [0.49159113, 0.48234683, 0.44671977]\n",
    "std= [0.23832777, 0.23483476, 0.25256896]"
   ]
  },
  {
   "cell_type": "code",
   "execution_count": 0,
   "metadata": {
    "colab": {},
    "colab_type": "code",
    "id": "YsEN1dzz1E9Z"
   },
   "outputs": [],
   "source": [
    "train_transform = transforms.Compose([\n",
    "                                      transforms.Resize(32),\n",
    "                                      transforms.RandomHorizontalFlip(),\n",
    "                                      transforms.ToTensor(),\n",
    "                                      transforms.Normalize(mean, std)\n",
    "])"
   ]
  },
  {
   "cell_type": "code",
   "execution_count": 0,
   "metadata": {
    "colab": {},
    "colab_type": "code",
    "id": "QtSWMsk81cjt"
   },
   "outputs": [],
   "source": [
    "test_transform = transforms.Compose([\n",
    "                                      transforms.Resize(32),\n",
    "                                      transforms.ToTensor(),\n",
    "                                      transforms.Normalize(mean, std)\n",
    "])"
   ]
  },
  {
   "cell_type": "code",
   "execution_count": 236,
   "metadata": {
    "colab": {
     "base_uri": "https://localhost:8080/",
     "height": 34
    },
    "colab_type": "code",
    "id": "6ixy6Vcj1l9e",
    "outputId": "dff5e82c-d7e8-4096-babb-66b698afa87f"
   },
   "outputs": [
    {
     "name": "stdout",
     "output_type": "stream",
     "text": [
      "Files already downloaded and verified\n"
     ]
    }
   ],
   "source": [
    "trainset = torchvision.datasets.CIFAR10(root='datasets/cifa10/train', download=True, train = True, transform= train_transform)"
   ]
  },
  {
   "cell_type": "code",
   "execution_count": 237,
   "metadata": {
    "colab": {
     "base_uri": "https://localhost:8080/",
     "height": 34
    },
    "colab_type": "code",
    "id": "XozlOybi1yaq",
    "outputId": "cd10290c-d293-481d-bf70-9f868fc7bc84"
   },
   "outputs": [
    {
     "name": "stdout",
     "output_type": "stream",
     "text": [
      "Files already downloaded and verified\n"
     ]
    }
   ],
   "source": [
    "testset = torchvision.datasets.CIFAR10(root='datasets/cifa10/test', download=True, train = False, transform= test_transform)"
   ]
  },
  {
   "cell_type": "code",
   "execution_count": 0,
   "metadata": {
    "colab": {},
    "colab_type": "code",
    "id": "iSYQNuyy19Tw"
   },
   "outputs": [],
   "source": [
    "trainloader = torch.utils.data.DataLoader(trainset, batch_size= 16, shuffle=True)\n"
   ]
  },
  {
   "cell_type": "code",
   "execution_count": 0,
   "metadata": {
    "colab": {},
    "colab_type": "code",
    "id": "JHUlUUKz2I9m"
   },
   "outputs": [],
   "source": [
    "testloader = torch.utils.data.DataLoader(testset, batch_size = 16, shuffle = False )"
   ]
  },
  {
   "cell_type": "code",
   "execution_count": 0,
   "metadata": {
    "colab": {},
    "colab_type": "code",
    "id": "Tax4_gKu2V6O"
   },
   "outputs": [],
   "source": [
    "class_names = trainset.classes"
   ]
  },
  {
   "cell_type": "code",
   "execution_count": 241,
   "metadata": {
    "colab": {
     "base_uri": "https://localhost:8080/",
     "height": 191
    },
    "colab_type": "code",
    "id": "mBWFa9SA2ZZD",
    "outputId": "14ecd74d-278c-4331-d65f-57b2a61126ff"
   },
   "outputs": [
    {
     "data": {
      "text/plain": [
       "['airplane',\n",
       " 'automobile',\n",
       " 'bird',\n",
       " 'cat',\n",
       " 'deer',\n",
       " 'dog',\n",
       " 'frog',\n",
       " 'horse',\n",
       " 'ship',\n",
       " 'truck']"
      ]
     },
     "execution_count": 241,
     "metadata": {
      "tags": []
     },
     "output_type": "execute_result"
    }
   ],
   "source": [
    "class_names"
   ]
  },
  {
   "cell_type": "code",
   "execution_count": 0,
   "metadata": {
    "colab": {},
    "colab_type": "code",
    "id": "QFLCHzPM2dFY"
   },
   "outputs": [],
   "source": [
    "# checking one batch of iamge"
   ]
  },
  {
   "cell_type": "code",
   "execution_count": 0,
   "metadata": {
    "colab": {},
    "colab_type": "code",
    "id": "1HkWp-Tm2hhB"
   },
   "outputs": [],
   "source": [
    "img, label = iter(trainloader).next()"
   ]
  },
  {
   "cell_type": "code",
   "execution_count": 244,
   "metadata": {
    "colab": {
     "base_uri": "https://localhost:8080/",
     "height": 34
    },
    "colab_type": "code",
    "id": "_2W-VieD2lr3",
    "outputId": "dc417b5d-6557-4ebf-9b7f-cbc1cc9d44e9"
   },
   "outputs": [
    {
     "data": {
      "text/plain": [
       "torch.Size([16, 3, 32, 32])"
      ]
     },
     "execution_count": 244,
     "metadata": {
      "tags": []
     },
     "output_type": "execute_result"
    }
   ],
   "source": [
    "img.shape"
   ]
  },
  {
   "cell_type": "code",
   "execution_count": 245,
   "metadata": {
    "colab": {
     "base_uri": "https://localhost:8080/",
     "height": 34
    },
    "colab_type": "code",
    "id": "-C90BCPu2ngd",
    "outputId": "e9202488-d9b9-42fc-fc7a-c66bafd411f2"
   },
   "outputs": [
    {
     "data": {
      "text/plain": [
       "tensor([7, 0, 9, 0, 7, 6, 5, 6, 2, 2, 3, 8, 7, 3, 5, 3])"
      ]
     },
     "execution_count": 245,
     "metadata": {
      "tags": []
     },
     "output_type": "execute_result"
    }
   ],
   "source": [
    "label"
   ]
  },
  {
   "cell_type": "code",
   "execution_count": 0,
   "metadata": {
    "colab": {},
    "colab_type": "code",
    "id": "1hDQy3Y_2qBO"
   },
   "outputs": [],
   "source": [
    "# designing CNN"
   ]
  },
  {
   "cell_type": "code",
   "execution_count": 0,
   "metadata": {
    "colab": {},
    "colab_type": "code",
    "id": "WB1wOSJA21UM"
   },
   "outputs": [],
   "source": [
    "in_size = 3 # RGB iamge\n",
    "hid1_size = 16 # conv1 layer\n",
    "hid2_size = 32 # conv2 layer\n",
    "\n",
    "out1_size = 400 # linear layers\n",
    "out2_size =10 # linear layers\n",
    "\n",
    "k_conv_size = 5"
   ]
  },
  {
   "cell_type": "code",
   "execution_count": 0,
   "metadata": {
    "colab": {},
    "colab_type": "code",
    "id": "oszR2ANL2_O8"
   },
   "outputs": [],
   "source": [
    "class ConvNet(nn.Module):\n",
    "  def __init__(self):\n",
    "    super(ConvNet, self).__init__()\n",
    "\n",
    "    self.layer1 = nn.Sequential(\n",
    "        nn.Conv2d(in_size, hid1_size, k_conv_size),\n",
    "        nn.BatchNorm2d(hid1_size),\n",
    "        nn.ReLU(),\n",
    "        nn.MaxPool2d(kernel_size=2))\n",
    "    \n",
    "    self.layer2 = nn.Sequential(\n",
    "        nn.Conv2d(hid1_size, hid2_size, k_conv_size),\n",
    "        nn.BatchNorm2d(hid2_size),\n",
    "        nn.ReLU(),\n",
    "        nn.MaxPool2d(kernel_size=2)\n",
    "    )\n",
    "\n",
    "    self.layer3 = nn.Sequential(\n",
    "        nn.Linear(hid2_size * k_conv_size * k_conv_size, out1_size),\n",
    "        nn.ReLU(),\n",
    "        nn.Dropout(0.5),\n",
    "        nn.Linear(out1_size, out2_size)\n",
    "    )\n",
    "\n",
    "  def forward(self,x):\n",
    "    out = self.layer1(x)\n",
    "    out = self.layer2(out)\n",
    "\n",
    "    out = out.reshape(out.size(0), -1)\n",
    "    out = self.layer3(out)\n",
    "\n",
    "    return F.log_softmax(out, dim =1)"
   ]
  },
  {
   "cell_type": "code",
   "execution_count": 0,
   "metadata": {
    "colab": {},
    "colab_type": "code",
    "id": "6mp_ESMW4YDy"
   },
   "outputs": [],
   "source": [
    "model = ConvNet()"
   ]
  },
  {
   "cell_type": "code",
   "execution_count": 250,
   "metadata": {
    "colab": {
     "base_uri": "https://localhost:8080/",
     "height": 34
    },
    "colab_type": "code",
    "id": "XmABHYlX49RM",
    "outputId": "4a5fc9a8-922f-4d6a-886f-fe3b3953605c"
   },
   "outputs": [
    {
     "name": "stdout",
     "output_type": "stream",
     "text": [
      "cuda:0\n"
     ]
    }
   ],
   "source": [
    "device = torch.device(\"cuda:0\" if torch.cuda.is_available() else \"cpu\")\n",
    "print(device)"
   ]
  },
  {
   "cell_type": "code",
   "execution_count": 251,
   "metadata": {
    "colab": {
     "base_uri": "https://localhost:8080/",
     "height": 364
    },
    "colab_type": "code",
    "id": "MoRL1hUG5EI0",
    "outputId": "5fd3aa93-bf51-442b-9274-5184251033c1"
   },
   "outputs": [
    {
     "data": {
      "text/plain": [
       "ConvNet(\n",
       "  (layer1): Sequential(\n",
       "    (0): Conv2d(3, 16, kernel_size=(5, 5), stride=(1, 1))\n",
       "    (1): BatchNorm2d(16, eps=1e-05, momentum=0.1, affine=True, track_running_stats=True)\n",
       "    (2): ReLU()\n",
       "    (3): MaxPool2d(kernel_size=2, stride=2, padding=0, dilation=1, ceil_mode=False)\n",
       "  )\n",
       "  (layer2): Sequential(\n",
       "    (0): Conv2d(16, 32, kernel_size=(5, 5), stride=(1, 1))\n",
       "    (1): BatchNorm2d(32, eps=1e-05, momentum=0.1, affine=True, track_running_stats=True)\n",
       "    (2): ReLU()\n",
       "    (3): MaxPool2d(kernel_size=2, stride=2, padding=0, dilation=1, ceil_mode=False)\n",
       "  )\n",
       "  (layer3): Sequential(\n",
       "    (0): Linear(in_features=800, out_features=400, bias=True)\n",
       "    (1): ReLU()\n",
       "    (2): Dropout(p=0.5, inplace=False)\n",
       "    (3): Linear(in_features=400, out_features=10, bias=True)\n",
       "  )\n",
       ")"
      ]
     },
     "execution_count": 251,
     "metadata": {
      "tags": []
     },
     "output_type": "execute_result"
    }
   ],
   "source": [
    "model.to(device)"
   ]
  },
  {
   "cell_type": "code",
   "execution_count": 0,
   "metadata": {
    "colab": {},
    "colab_type": "code",
    "id": "MW2_2Dk85HQ4"
   },
   "outputs": [],
   "source": [
    "learning_rate = 0.001\n",
    "crierian = nn.NLLLoss()\n",
    "\n",
    "\n",
    "optimizer = torch.optim.Adam(model.parameters(), lr= learning_rate)"
   ]
  },
  {
   "cell_type": "code",
   "execution_count": 0,
   "metadata": {
    "colab": {},
    "colab_type": "code",
    "id": "ombT-VnC5SUE"
   },
   "outputs": [],
   "source": [
    "total_step = len(trainloader)\n",
    "\n",
    "num_epochs = 10\n",
    "loss_values = list()"
   ]
  },
  {
   "cell_type": "code",
   "execution_count": 254,
   "metadata": {
    "colab": {
     "base_uri": "https://localhost:8080/",
     "height": 191
    },
    "colab_type": "code",
    "id": "NX9nckDc5eEw",
    "outputId": "f7112b24-eb82-4868-a3ff-707181808d8d"
   },
   "outputs": [
    {
     "name": "stdout",
     "output_type": "stream",
     "text": [
      "Epoch [1 / 10], Step [2000 / 3125], Loss: 1.3782\n",
      "Epoch [2 / 10], Step [2000 / 3125], Loss: 0.8727\n",
      "Epoch [3 / 10], Step [2000 / 3125], Loss: 0.8942\n",
      "Epoch [4 / 10], Step [2000 / 3125], Loss: 0.7834\n",
      "Epoch [5 / 10], Step [2000 / 3125], Loss: 0.8260\n",
      "Epoch [6 / 10], Step [2000 / 3125], Loss: 0.8243\n",
      "Epoch [7 / 10], Step [2000 / 3125], Loss: 1.0868\n",
      "Epoch [8 / 10], Step [2000 / 3125], Loss: 0.5427\n",
      "Epoch [9 / 10], Step [2000 / 3125], Loss: 0.2084\n",
      "Epoch [10 / 10], Step [2000 / 3125], Loss: 0.9858\n"
     ]
    }
   ],
   "source": [
    "for epoch in range(num_epochs):\n",
    "  for i, (images, labels) in enumerate(trainloader):\n",
    "    images, labels = images.to(device), labels.to(device)\n",
    "\n",
    "    outputs= model(images)\n",
    "    loss = crierian(outputs, labels)\n",
    "\n",
    "\n",
    "    optimizer.zero_grad()\n",
    "    loss.backward()\n",
    "\n",
    "    optimizer.step()\n",
    "\n",
    "    if (i+1) % 2000 == 0:\n",
    "      print('Epoch [{} / {}], Step [{} / {}], Loss: {:.4f}'.format(epoch+1, num_epochs, i+1, total_step, loss.item()))\n",
    "\n",
    "      loss_values.append(loss.item())"
   ]
  },
  {
   "cell_type": "code",
   "execution_count": 260,
   "metadata": {
    "colab": {
     "base_uri": "https://localhost:8080/",
     "height": 623
    },
    "colab_type": "code",
    "id": "q5d9ITW56MsB",
    "outputId": "0c2cae6d-18a3-4c42-ba85-1d8b4af673e3"
   },
   "outputs": [
    {
     "data": {
      "text/plain": [
       "Text(0, 0.5, 'loss')"
      ]
     },
     "execution_count": 260,
     "metadata": {
      "tags": []
     },
     "output_type": "execute_result"
    },
    {
     "data": {
      "image/png": "[encoded data removed]",
      "text/plain": [
       "<Figure size 864x720 with 1 Axes>"
      ]
     },
     "metadata": {
      "needs_background": "light",
      "tags": []
     },
     "output_type": "display_data"
    }
   ],
   "source": [
    "x = (range(1,11))\n",
    "import matplotlib.pyplot as plt\n",
    "\n",
    "\n",
    "plt.figure(figsize=(12,10))\n",
    "\n",
    "plt.plot(x, loss_values)\n",
    "plt.xlabel('step')\n",
    "plt.ylabel('loss')\n"
   ]
  },
  {
   "cell_type": "code",
   "execution_count": 261,
   "metadata": {
    "colab": {
     "base_uri": "https://localhost:8080/",
     "height": 364
    },
    "colab_type": "code",
    "id": "g2bDEZLbI6F2",
    "outputId": "e91e0200-092e-4fb9-d810-0953f1b204d0"
   },
   "outputs": [
    {
     "data": {
      "text/plain": [
       "ConvNet(\n",
       "  (layer1): Sequential(\n",
       "    (0): Conv2d(3, 16, kernel_size=(5, 5), stride=(1, 1))\n",
       "    (1): BatchNorm2d(16, eps=1e-05, momentum=0.1, affine=True, track_running_stats=True)\n",
       "    (2): ReLU()\n",
       "    (3): MaxPool2d(kernel_size=2, stride=2, padding=0, dilation=1, ceil_mode=False)\n",
       "  )\n",
       "  (layer2): Sequential(\n",
       "    (0): Conv2d(16, 32, kernel_size=(5, 5), stride=(1, 1))\n",
       "    (1): BatchNorm2d(32, eps=1e-05, momentum=0.1, affine=True, track_running_stats=True)\n",
       "    (2): ReLU()\n",
       "    (3): MaxPool2d(kernel_size=2, stride=2, padding=0, dilation=1, ceil_mode=False)\n",
       "  )\n",
       "  (layer3): Sequential(\n",
       "    (0): Linear(in_features=800, out_features=400, bias=True)\n",
       "    (1): ReLU()\n",
       "    (2): Dropout(p=0.5, inplace=False)\n",
       "    (3): Linear(in_features=400, out_features=10, bias=True)\n",
       "  )\n",
       ")"
      ]
     },
     "execution_count": 261,
     "metadata": {
      "tags": []
     },
     "output_type": "execute_result"
    }
   ],
   "source": [
    "model.eval()"
   ]
  },
  {
   "cell_type": "code",
   "execution_count": 262,
   "metadata": {
    "colab": {
     "base_uri": "https://localhost:8080/",
     "height": 34
    },
    "colab_type": "code",
    "id": "x9a61Tb8mhMj",
    "outputId": "41b98149-559b-4b0e-8465-f16d60742db6"
   },
   "outputs": [
    {
     "name": "stdout",
     "output_type": "stream",
     "text": [
      "Accuracty of the model on the 10000 test images : 72.56%\n"
     ]
    }
   ],
   "source": [
    "def calc_accuracy(model):\n",
    "  model.eval()\n",
    "  with torch.no_grad():\n",
    "    correct = 0\n",
    "    total = 0\n",
    "    for images, labels in testloader:\n",
    "      images, labels = images.to(device), labels.to(device)\n",
    "      outputs = model(images)\n",
    "      _, predicted = torch.max(outputs.data ,1)\n",
    "      total += labels.size(0)\n",
    "      correct += (predicted == labels).sum().item()\n",
    "\n",
    "    print(\"Accuracty of the model on the 10000 test images : {}%\"\\\n",
    "          .format(100 * correct / total))\n",
    "    \n",
    "\n",
    "calc_accuracy(model)"
   ]
  },
  {
   "cell_type": "code",
   "execution_count": 0,
   "metadata": {
    "colab": {},
    "colab_type": "code",
    "id": "wkRp88aYnUS_"
   },
   "outputs": [],
   "source": [
    "sample_img, _= testset[23]"
   ]
  },
  {
   "cell_type": "code",
   "execution_count": 264,
   "metadata": {
    "colab": {
     "base_uri": "https://localhost:8080/",
     "height": 34
    },
    "colab_type": "code",
    "id": "_-Xb-U5GniVV",
    "outputId": "29f807b3-ecdd-437a-eb45-eaf80a528788"
   },
   "outputs": [
    {
     "data": {
      "text/plain": [
       "torch.Size([3, 32, 32])"
      ]
     },
     "execution_count": 264,
     "metadata": {
      "tags": []
     },
     "output_type": "execute_result"
    }
   ],
   "source": [
    "sample_img.shape"
   ]
  },
  {
   "cell_type": "code",
   "execution_count": 265,
   "metadata": {
    "colab": {
     "base_uri": "https://localhost:8080/",
     "height": 34
    },
    "colab_type": "code",
    "id": "VBvgX-nSnlvn",
    "outputId": "02d2c8e5-f7d9-4d9b-b770-1b24db7e97d3"
   },
   "outputs": [
    {
     "data": {
      "text/plain": [
       "torch.Tensor"
      ]
     },
     "execution_count": 265,
     "metadata": {
      "tags": []
     },
     "output_type": "execute_result"
    }
   ],
   "source": [
    "type(sample_img)"
   ]
  },
  {
   "cell_type": "code",
   "execution_count": 0,
   "metadata": {
    "colab": {},
    "colab_type": "code",
    "id": "n2pf_pQuntTL"
   },
   "outputs": [],
   "source": [
    "sample_img = np.transpose(sample_img, (1,2, 0))\n",
    "m,M = sample_img.min(), sample_img.max()"
   ]
  },
  {
   "cell_type": "code",
   "execution_count": 0,
   "metadata": {
    "colab": {},
    "colab_type": "code",
    "id": "jljJvrTHn1Us"
   },
   "outputs": [],
   "source": [
    "sample_img= ( 1/ abs(M)) * sample_img + 0.5"
   ]
  },
  {
   "cell_type": "code",
   "execution_count": 268,
   "metadata": {
    "colab": {
     "base_uri": "https://localhost:8080/",
     "height": 301
    },
    "colab_type": "code",
    "id": "VnMzvUQBn7oe",
    "outputId": "2da820e9-b79c-4087-f7c0-3f4fcb037a88"
   },
   "outputs": [
    {
     "name": "stderr",
     "output_type": "stream",
     "text": [
      "Clipping input data to the valid range for imshow with RGB data ([0..1] for floats or [0..255] for integers).\n"
     ]
    },
    {
     "data": {
      "text/plain": [
       "<matplotlib.image.AxesImage at 0x7f70331df4a8>"
      ]
     },
     "execution_count": 268,
     "metadata": {
      "tags": []
     },
     "output_type": "execute_result"
    },
    {
     "data": {
      "image/png": "[encoded data removed]",
      "text/plain": [
       "<Figure size 432x288 with 1 Axes>"
      ]
     },
     "metadata": {
      "needs_background": "light",
      "tags": []
     },
     "output_type": "display_data"
    }
   ],
   "source": [
    "plt.imshow(sample_img)"
   ]
  },
  {
   "cell_type": "code",
   "execution_count": 0,
   "metadata": {
    "colab": {},
    "colab_type": "code",
    "id": "lglaOhzjoJK6"
   },
   "outputs": [],
   "source": [
    "test_img, test_label = testset[23]"
   ]
  },
  {
   "cell_type": "code",
   "execution_count": 0,
   "metadata": {
    "colab": {},
    "colab_type": "code",
    "id": "NJ7S7aKToY_0"
   },
   "outputs": [],
   "source": [
    "test_img = test_img.reshape(-1, 3, 32 ,32)"
   ]
  },
  {
   "cell_type": "code",
   "execution_count": 0,
   "metadata": {
    "colab": {},
    "colab_type": "code",
    "id": "eW4H7xiWodV-"
   },
   "outputs": [],
   "source": [
    "out_predict = model(test_img.to(device))\n",
    "_,predicted = torch.max(out_predict.data, 1)"
   ]
  },
  {
   "cell_type": "code",
   "execution_count": 272,
   "metadata": {
    "colab": {
     "base_uri": "https://localhost:8080/",
     "height": 34
    },
    "colab_type": "code",
    "id": "I3zgpO1Joolr",
    "outputId": "841f5ae5-38e3-440c-e768-704f96ebeb64"
   },
   "outputs": [
    {
     "name": "stdout",
     "output_type": "stream",
     "text": [
      "actual label 9\n"
     ]
    }
   ],
   "source": [
    "print(\"actual label\", test_label)"
   ]
  },
  {
   "cell_type": "code",
   "execution_count": 273,
   "metadata": {
    "colab": {
     "base_uri": "https://localhost:8080/",
     "height": 34
    },
    "colab_type": "code",
    "id": "95loYS7Pot_R",
    "outputId": "9f15699d-4ed3-40ed-c579-ef2055b1722b"
   },
   "outputs": [
    {
     "name": "stdout",
     "output_type": "stream",
     "text": [
      "Actual label tensor([9], device='cuda:0')\n"
     ]
    }
   ],
   "source": [
    "print(\"Actual label\", predicted)"
   ]
  },
  {
   "cell_type": "markdown",
   "metadata": {
    "colab_type": "text",
    "id": "OdtKdTQTo7Nu"
   },
   "source": [
    "# Different Activation Functions\n",
    "## Using Sigmoid"
   ]
  },
  {
   "cell_type": "markdown",
   "metadata": {
    "colab_type": "text",
    "id": "LXVH3E7Uq5Ty"
   },
   "source": []
  },
  {
   "cell_type": "code",
   "execution_count": 0,
   "metadata": {
    "colab": {},
    "colab_type": "code",
    "id": "AYy3GMWBo_GI"
   },
   "outputs": [],
   "source": [
    "class ConvNet(nn.Module):\n",
    "  def __init__(self):\n",
    "    super(ConvNet, self).__init__()\n",
    "\n",
    "    self.layer1 = nn.Sequential(\n",
    "        nn.Conv2d(in_size, hid1_size, k_conv_size),\n",
    "        nn.BatchNorm2d(hid1_size),\n",
    "        nn.Sigmoid(),\n",
    "        nn.MaxPool2d(kernel_size=2))\n",
    "    \n",
    "    self.layer2 = nn.Sequential(\n",
    "        nn.Conv2d(hid1_size, hid2_size, k_conv_size),\n",
    "        nn.BatchNorm2d(hid2_size),\n",
    "        nn.Sigmoid(),\n",
    "        nn.MaxPool2d(kernel_size=2)\n",
    "    )\n",
    "\n",
    "    self.layer3 = nn.Sequential(\n",
    "        nn.Linear(hid2_size * k_conv_size * k_conv_size, out1_size),\n",
    "        nn.Sigmoid(),\n",
    "        nn.Dropout(0.5),\n",
    "        nn.Linear(out1_size, out2_size)\n",
    "    )\n",
    "\n",
    "  def forward(self,x):\n",
    "    out = self.layer1(x)\n",
    "    out = self.layer2(out)\n",
    "\n",
    "    out = out.reshape(out.size(0), -1)\n",
    "    out = self.layer3(out)\n",
    "\n",
    "    return F.log_softmax(out, dim =1)"
   ]
  },
  {
   "cell_type": "code",
   "execution_count": 0,
   "metadata": {
    "colab": {},
    "colab_type": "code",
    "id": "BupiAH8wpfkY"
   },
   "outputs": [],
   "source": [
    "model = ConvNet()\n",
    "device = torch.device(\"cuda:0\" if torch.cuda.is_available() else \"cpu\")\n",
    "model.to(device)\n",
    "learning_rate = 0.001\n",
    "crierian = nn.NLLLoss()\n",
    "optimizer = torch.optim.Adam(model.parameters(), lr= learning_rate)\n",
    "total_step = len(trainloader)\n",
    "num_epochs = 10\n",
    "loss_values = list()\n",
    "\n"
   ]
  },
  {
   "cell_type": "code",
   "execution_count": 276,
   "metadata": {
    "colab": {
     "base_uri": "https://localhost:8080/",
     "height": 191
    },
    "colab_type": "code",
    "id": "yTX253qup3v9",
    "outputId": "e4b9c473-13bb-4f64-8455-02bd97d5785c"
   },
   "outputs": [
    {
     "name": "stdout",
     "output_type": "stream",
     "text": [
      "Epoch [1 / 10], Step [2000 / 3125], Loss: 1.2966\n",
      "Epoch [2 / 10], Step [2000 / 3125], Loss: 1.7431\n",
      "Epoch [3 / 10], Step [2000 / 3125], Loss: 1.2304\n",
      "Epoch [4 / 10], Step [2000 / 3125], Loss: 0.8951\n",
      "Epoch [5 / 10], Step [2000 / 3125], Loss: 0.8990\n",
      "Epoch [6 / 10], Step [2000 / 3125], Loss: 0.7269\n",
      "Epoch [7 / 10], Step [2000 / 3125], Loss: 1.1045\n",
      "Epoch [8 / 10], Step [2000 / 3125], Loss: 1.0710\n",
      "Epoch [9 / 10], Step [2000 / 3125], Loss: 0.9170\n",
      "Epoch [10 / 10], Step [2000 / 3125], Loss: 0.6716\n"
     ]
    }
   ],
   "source": [
    "for epoch in range(num_epochs):\n",
    "  for i, (images, labels) in enumerate(trainloader):\n",
    "    images, labels = images.to(device), labels.to(device)\n",
    "\n",
    "    outputs= model(images)\n",
    "    loss = crierian(outputs, labels)\n",
    "\n",
    "\n",
    "    optimizer.zero_grad()\n",
    "    loss.backward()\n",
    "\n",
    "    optimizer.step()\n",
    "\n",
    "    if (i+1) % 2000 == 0:\n",
    "      print('Epoch [{} / {}], Step [{} / {}], Loss: {:.4f}'.format(epoch+1, num_epochs, i+1, total_step, loss.item()))\n",
    "\n",
    "      loss_values.append(loss.item())"
   ]
  },
  {
   "cell_type": "code",
   "execution_count": 277,
   "metadata": {
    "colab": {
     "base_uri": "https://localhost:8080/",
     "height": 34
    },
    "colab_type": "code",
    "id": "-Zah2Rg-p4iV",
    "outputId": "ccafc676-734f-4220-f606-a281a3fbfece"
   },
   "outputs": [
    {
     "name": "stdout",
     "output_type": "stream",
     "text": [
      "Accuracty of the model on the 10000 test images : 68.98%\n"
     ]
    }
   ],
   "source": [
    "calc_accuracy(model)"
   ]
  },
  {
   "cell_type": "code",
   "execution_count": 0,
   "metadata": {
    "colab": {},
    "colab_type": "code",
    "id": "8YfTNAd_qrg3"
   },
   "outputs": [],
   "source": []
  },
  {
   "cell_type": "markdown",
   "metadata": {
    "colab_type": "text",
    "id": "T31G8Ygdq6tt"
   },
   "source": [
    "## Using tanh"
   ]
  },
  {
   "cell_type": "code",
   "execution_count": 0,
   "metadata": {
    "colab": {},
    "colab_type": "code",
    "id": "lB2TU9cFq8Fp"
   },
   "outputs": [],
   "source": [
    "class ConvNet(nn.Module):\n",
    "  def __init__(self):\n",
    "    super(ConvNet, self).__init__()\n",
    "\n",
    "    self.layer1 = nn.Sequential(\n",
    "        nn.Conv2d(in_size, hid1_size, k_conv_size),\n",
    "        nn.BatchNorm2d(hid1_size),\n",
    "        nn.Tanh(),\n",
    "        nn.MaxPool2d(kernel_size=2))\n",
    "    \n",
    "    self.layer2 = nn.Sequential(\n",
    "        nn.Conv2d(hid1_size, hid2_size, k_conv_size),\n",
    "        nn.BatchNorm2d(hid2_size),\n",
    "        nn.Tanh(),\n",
    "        nn.MaxPool2d(kernel_size=2)\n",
    "    )\n",
    "\n",
    "    self.layer3 = nn.Sequential(\n",
    "        nn.Linear(hid2_size * k_conv_size * k_conv_size, out1_size),\n",
    "        nn.Tanh(),\n",
    "        nn.Dropout(0.5),\n",
    "        nn.Linear(out1_size, out2_size)\n",
    "    )\n",
    "\n",
    "  def forward(self,x):\n",
    "    out = self.layer1(x)\n",
    "    out = self.layer2(out)\n",
    "\n",
    "    out = out.reshape(out.size(0), -1)\n",
    "    out = self.layer3(out)\n",
    "\n",
    "    return F.log_softmax(out, dim =1)"
   ]
  },
  {
   "cell_type": "code",
   "execution_count": 0,
   "metadata": {
    "colab": {},
    "colab_type": "code",
    "id": "Fami3IwWrE0a"
   },
   "outputs": [],
   "source": [
    "model = ConvNet()\n",
    "device = torch.device(\"cuda:0\" if torch.cuda.is_available() else \"cpu\")\n",
    "model.to(device)\n",
    "learning_rate = 0.001\n",
    "crierian = nn.NLLLoss()\n",
    "optimizer = torch.optim.Adam(model.parameters(), lr= learning_rate)\n",
    "total_step = len(trainloader)\n",
    "num_epochs = 10\n",
    "loss_values = list()\n",
    "\n"
   ]
  },
  {
   "cell_type": "code",
   "execution_count": 280,
   "metadata": {
    "colab": {
     "base_uri": "https://localhost:8080/",
     "height": 191
    },
    "colab_type": "code",
    "id": "7V5jNOurrG5y",
    "outputId": "be30cec0-bef8-4e4e-b9d9-1afb32466128"
   },
   "outputs": [
    {
     "name": "stdout",
     "output_type": "stream",
     "text": [
      "Epoch [1 / 10], Step [2000 / 3125], Loss: 2.0896\n",
      "Epoch [2 / 10], Step [2000 / 3125], Loss: 1.2474\n",
      "Epoch [3 / 10], Step [2000 / 3125], Loss: 0.8982\n",
      "Epoch [4 / 10], Step [2000 / 3125], Loss: 1.0038\n",
      "Epoch [5 / 10], Step [2000 / 3125], Loss: 1.1705\n",
      "Epoch [6 / 10], Step [2000 / 3125], Loss: 0.7655\n",
      "Epoch [7 / 10], Step [2000 / 3125], Loss: 0.9047\n",
      "Epoch [8 / 10], Step [2000 / 3125], Loss: 1.0239\n",
      "Epoch [9 / 10], Step [2000 / 3125], Loss: 0.9082\n",
      "Epoch [10 / 10], Step [2000 / 3125], Loss: 1.8968\n"
     ]
    }
   ],
   "source": [
    "for epoch in range(num_epochs):\n",
    "  for i, (images, labels) in enumerate(trainloader):\n",
    "    images, labels = images.to(device), labels.to(device)\n",
    "\n",
    "    outputs= model(images)\n",
    "    loss = crierian(outputs, labels)\n",
    "\n",
    "\n",
    "    optimizer.zero_grad()\n",
    "    loss.backward()\n",
    "\n",
    "    optimizer.step()\n",
    "\n",
    "    if (i+1) % 2000 == 0:\n",
    "      print('Epoch [{} / {}], Step [{} / {}], Loss: {:.4f}'.format(epoch+1, num_epochs, i+1, total_step, loss.item()))\n",
    "\n",
    "      loss_values.append(loss.item())"
   ]
  },
  {
   "cell_type": "code",
   "execution_count": 281,
   "metadata": {
    "colab": {
     "base_uri": "https://localhost:8080/",
     "height": 34
    },
    "colab_type": "code",
    "id": "CzqS7joJrKHZ",
    "outputId": "87259f9a-ce0d-4c26-9013-13051a0dfcc5"
   },
   "outputs": [
    {
     "name": "stdout",
     "output_type": "stream",
     "text": [
      "Accuracty of the model on the 10000 test images : 68.5%\n"
     ]
    }
   ],
   "source": [
    "calc_accuracy(model)"
   ]
  },
  {
   "cell_type": "markdown",
   "metadata": {
    "colab_type": "text",
    "id": "PEMQVAhOriQk"
   },
   "source": [
    "# Changing Pooling Layers\n",
    "\n",
    "## Average Pooliing"
   ]
  },
  {
   "cell_type": "code",
   "execution_count": 0,
   "metadata": {
    "colab": {},
    "colab_type": "code",
    "id": "yEVmQuaLrkYJ"
   },
   "outputs": [],
   "source": [
    "class ConvNet(nn.Module):\n",
    "  def __init__(self):\n",
    "    super(ConvNet, self).__init__()\n",
    "\n",
    "    self.layer1 = nn.Sequential(\n",
    "        nn.Conv2d(in_size, hid1_size, k_conv_size),\n",
    "        nn.BatchNorm2d(hid1_size),\n",
    "        nn.Tanh(),\n",
    "        nn.AvgPool2d(kernel_size=2))\n",
    "    \n",
    "    self.layer2 = nn.Sequential(\n",
    "        nn.Conv2d(hid1_size, hid2_size, k_conv_size),\n",
    "        nn.BatchNorm2d(hid2_size),\n",
    "        nn.Tanh(),\n",
    "        nn.AvgPool2d(kernel_size=2)\n",
    "    )\n",
    "\n",
    "    self.layer3 = nn.Sequential(\n",
    "        nn.Linear(hid2_size * k_conv_size * k_conv_size, out1_size),\n",
    "        nn.Tanh(),\n",
    "        nn.Dropout(0.5),\n",
    "        nn.Linear(out1_size, out2_size)\n",
    "    )\n",
    "\n",
    "  def forward(self,x):\n",
    "    out = self.layer1(x)\n",
    "    out = self.layer2(out)\n",
    "\n",
    "    out = out.reshape(out.size(0), -1)\n",
    "    out = self.layer3(out)\n",
    "\n",
    "    return F.log_softmax(out, dim =1)"
   ]
  },
  {
   "cell_type": "code",
   "execution_count": 0,
   "metadata": {
    "colab": {},
    "colab_type": "code",
    "id": "KcTJWti1r8TT"
   },
   "outputs": [],
   "source": [
    "model = ConvNet()\n",
    "device = torch.device(\"cuda:0\" if torch.cuda.is_available() else \"cpu\")\n",
    "model.to(device)\n",
    "learning_rate = 0.001\n",
    "crierian = nn.NLLLoss()\n",
    "optimizer = torch.optim.Adam(model.parameters(), lr= learning_rate)\n",
    "total_step = len(trainloader)\n",
    "num_epochs = 10\n",
    "loss_values = list()\n",
    "\n"
   ]
  },
  {
   "cell_type": "code",
   "execution_count": 284,
   "metadata": {
    "colab": {
     "base_uri": "https://localhost:8080/",
     "height": 191
    },
    "colab_type": "code",
    "id": "rCv19kcZr-TJ",
    "outputId": "255673bc-6964-48b9-af1c-d48f7adc6005"
   },
   "outputs": [
    {
     "name": "stdout",
     "output_type": "stream",
     "text": [
      "Epoch [1 / 10], Step [2000 / 3125], Loss: 1.9120\n",
      "Epoch [2 / 10], Step [2000 / 3125], Loss: 1.5844\n",
      "Epoch [3 / 10], Step [2000 / 3125], Loss: 1.1739\n",
      "Epoch [4 / 10], Step [2000 / 3125], Loss: 1.0349\n",
      "Epoch [5 / 10], Step [2000 / 3125], Loss: 1.0196\n",
      "Epoch [6 / 10], Step [2000 / 3125], Loss: 1.7041\n",
      "Epoch [7 / 10], Step [2000 / 3125], Loss: 1.5638\n",
      "Epoch [8 / 10], Step [2000 / 3125], Loss: 1.2720\n",
      "Epoch [9 / 10], Step [2000 / 3125], Loss: 0.9111\n",
      "Epoch [10 / 10], Step [2000 / 3125], Loss: 1.1132\n"
     ]
    }
   ],
   "source": [
    "for epoch in range(num_epochs):\n",
    "  for i, (images, labels) in enumerate(trainloader):\n",
    "    images, labels = images.to(device), labels.to(device)\n",
    "\n",
    "    outputs= model(images)\n",
    "    loss = crierian(outputs, labels)\n",
    "\n",
    "\n",
    "    optimizer.zero_grad()\n",
    "    loss.backward()\n",
    "\n",
    "    optimizer.step()\n",
    "\n",
    "    if (i+1) % 2000 == 0:\n",
    "      print('Epoch [{} / {}], Step [{} / {}], Loss: {:.4f}'.format(epoch+1, num_epochs, i+1, total_step, loss.item()))\n",
    "\n",
    "      loss_values.append(loss.item())"
   ]
  },
  {
   "cell_type": "code",
   "execution_count": 285,
   "metadata": {
    "colab": {
     "base_uri": "https://localhost:8080/",
     "height": 34
    },
    "colab_type": "code",
    "id": "p-nZhnnrsAQA",
    "outputId": "3a9b8179-6f57-40b0-b70c-2420d876e113"
   },
   "outputs": [
    {
     "name": "stdout",
     "output_type": "stream",
     "text": [
      "Accuracty of the model on the 10000 test images : 64.87%\n"
     ]
    }
   ],
   "source": [
    "calc_accuracy(model)"
   ]
  },
  {
   "cell_type": "code",
   "execution_count": 0,
   "metadata": {
    "colab": {},
    "colab_type": "code",
    "id": "vNmAbXSOsLwf"
   },
   "outputs": [],
   "source": []
  },
  {
   "cell_type": "markdown",
   "metadata": {
    "colab_type": "text",
    "id": "10-tkMLPsP39"
   },
   "source": [
    "## Using LpPool that is availabe in pytorch"
   ]
  },
  {
   "cell_type": "code",
   "execution_count": 0,
   "metadata": {
    "colab": {},
    "colab_type": "code",
    "id": "A9G8J-lPsTJZ"
   },
   "outputs": [],
   "source": [
    "class ConvNet(nn.Module):\n",
    "  def __init__(self):\n",
    "    super(ConvNet, self).__init__()\n",
    "\n",
    "    self.layer1 = nn.Sequential(\n",
    "        nn.Conv2d(in_size, hid1_size, k_conv_size),\n",
    "        nn.BatchNorm2d(hid1_size),\n",
    "        nn.Tanh(),\n",
    "        nn.LPPool2d(1, kernel_size=2))\n",
    "    \n",
    "    self.layer2 = nn.Sequential(\n",
    "        nn.Conv2d(hid1_size, hid2_size, k_conv_size),\n",
    "        nn.BatchNorm2d(hid2_size),\n",
    "        nn.Tanh(),\n",
    "        nn.LPPool2d(1, kernel_size=2)\n",
    "    )\n",
    "\n",
    "    self.layer3 = nn.Sequential(\n",
    "        nn.Linear(hid2_size * k_conv_size * k_conv_size, out1_size),\n",
    "        nn.Tanh(),\n",
    "        nn.Dropout(0.5),\n",
    "        nn.Linear(out1_size, out2_size)\n",
    "    )\n",
    "\n",
    "  def forward(self,x):\n",
    "    out = self.layer1(x)\n",
    "    out = self.layer2(out)\n",
    "\n",
    "    out = out.reshape(out.size(0), -1)\n",
    "    out = self.layer3(out)\n",
    "\n",
    "    return F.log_softmax(out, dim =1)"
   ]
  },
  {
   "cell_type": "code",
   "execution_count": 0,
   "metadata": {
    "colab": {},
    "colab_type": "code",
    "id": "_LpGKdh9sccK"
   },
   "outputs": [],
   "source": [
    "model = ConvNet()\n",
    "device = torch.device(\"cuda:0\" if torch.cuda.is_available() else \"cpu\")\n",
    "model.to(device)\n",
    "learning_rate = 0.001\n",
    "crierian = nn.NLLLoss()\n",
    "optimizer = torch.optim.Adam(model.parameters(), lr= learning_rate)\n",
    "total_step = len(trainloader)\n",
    "num_epochs = 10\n",
    "loss_values = list()\n",
    "\n"
   ]
  },
  {
   "cell_type": "code",
   "execution_count": 288,
   "metadata": {
    "colab": {
     "base_uri": "https://localhost:8080/",
     "height": 191
    },
    "colab_type": "code",
    "id": "PhacD-KXsf3C",
    "outputId": "601ef2fb-5f90-4d6c-df31-76270fa2e676"
   },
   "outputs": [
    {
     "name": "stdout",
     "output_type": "stream",
     "text": [
      "Epoch [1 / 10], Step [2000 / 3125], Loss: 1.3878\n",
      "Epoch [2 / 10], Step [2000 / 3125], Loss: 1.3795\n",
      "Epoch [3 / 10], Step [2000 / 3125], Loss: 1.4499\n",
      "Epoch [4 / 10], Step [2000 / 3125], Loss: 1.0473\n",
      "Epoch [5 / 10], Step [2000 / 3125], Loss: 1.0314\n",
      "Epoch [6 / 10], Step [2000 / 3125], Loss: 1.4514\n",
      "Epoch [7 / 10], Step [2000 / 3125], Loss: 1.0771\n",
      "Epoch [8 / 10], Step [2000 / 3125], Loss: 1.7043\n",
      "Epoch [9 / 10], Step [2000 / 3125], Loss: 1.2098\n",
      "Epoch [10 / 10], Step [2000 / 3125], Loss: 1.2910\n"
     ]
    }
   ],
   "source": [
    "for epoch in range(num_epochs):\n",
    "  for i, (images, labels) in enumerate(trainloader):\n",
    "    images, labels = images.to(device), labels.to(device)\n",
    "\n",
    "    outputs= model(images)\n",
    "    loss = crierian(outputs, labels)\n",
    "\n",
    "\n",
    "    optimizer.zero_grad()\n",
    "    loss.backward()\n",
    "\n",
    "    optimizer.step()\n",
    "\n",
    "    if (i+1) % 2000 == 0:\n",
    "      print('Epoch [{} / {}], Step [{} / {}], Loss: {:.4f}'.format(epoch+1, num_epochs, i+1, total_step, loss.item()))\n",
    "\n",
    "      loss_values.append(loss.item())"
   ]
  },
  {
   "cell_type": "code",
   "execution_count": 289,
   "metadata": {
    "colab": {
     "base_uri": "https://localhost:8080/",
     "height": 34
    },
    "colab_type": "code",
    "id": "6bgltoChsgW_",
    "outputId": "5f71a397-07b9-4305-d060-ee70c440e9ea"
   },
   "outputs": [
    {
     "name": "stdout",
     "output_type": "stream",
     "text": [
      "Accuracty of the model on the 10000 test images : 54.48%\n"
     ]
    }
   ],
   "source": [
    "calc_accuracy(model)"
   ]
  },
  {
   "cell_type": "code",
   "execution_count": 0,
   "metadata": {
    "colab": {},
    "colab_type": "code",
    "id": "hraTsTpysioW"
   },
   "outputs": [],
   "source": []
  },
  {
   "cell_type": "markdown",
   "metadata": {
    "colab_type": "text",
    "id": "hFDqAeXJsvGD"
   },
   "source": [
    "# Adding More Colvolutional Layers"
   ]
  },
  {
   "cell_type": "code",
   "execution_count": 0,
   "metadata": {
    "colab": {},
    "colab_type": "code",
    "id": "av-jsQk9sx1o"
   },
   "outputs": [],
   "source": [
    "train_transform = transforms.Compose([\n",
    "                                      transforms.Resize(128),\n",
    "                                      transforms.RandomHorizontalFlip(),\n",
    "                                      transforms.ToTensor(),\n",
    "                                      transforms.Normalize(mean, std)\n",
    "])"
   ]
  },
  {
   "cell_type": "code",
   "execution_count": 0,
   "metadata": {
    "colab": {},
    "colab_type": "code",
    "id": "qpy8NMrZs9PW"
   },
   "outputs": [],
   "source": [
    "test_transform = transforms.Compose([\n",
    "                                      transforms.Resize(128),\n",
    "                                      transforms.ToTensor(),\n",
    "                                      transforms.Normalize(mean, std)\n",
    "])"
   ]
  },
  {
   "cell_type": "code",
   "execution_count": 6,
   "metadata": {
    "colab": {
     "base_uri": "https://localhost:8080/",
     "height": 84,
     "referenced_widgets": [
      "0eb542c9c3204b498224c0ffad4c7812",
      "fa4ca95775624db6aa839326111612f7",
      "8337373b2e07418e9a2dc495befc45a3",
      "b3ae3f91843442c69d691cabfc0e3042",
      "e175f8e0fd9248d0b54f53895d50758b",
      "9aef89bdd34e413ca8651566991f7c54",
      "61dd2199d07e46208bd2e2325072a83f",
      "1f55a772949f47c1a5c976a94814526d"
     ]
    },
    "colab_type": "code",
    "id": "SXkvz6OVG-qr",
    "outputId": "add5a21b-64cc-4e36-b099-5a4b1a85dd55"
   },
   "outputs": [
    {
     "name": "stdout",
     "output_type": "stream",
     "text": [
      "Downloading https://www.cs.toronto.edu/~kriz/cifar-10-python.tar.gz to datasets/cifa10/train/cifar-10-python.tar.gz\n"
     ]
    },
    {
     "data": {
      "application/vnd.jupyter.widget-view+json": {
       "model_id": "0eb542c9c3204b498224c0ffad4c7812",
       "version_major": 2,
       "version_minor": 0
      },
      "text/plain": [
       "HBox(children=(IntProgress(value=1, bar_style='info', max=1), HTML(value='')))"
      ]
     },
     "metadata": {
      "tags": []
     },
     "output_type": "display_data"
    },
    {
     "name": "stdout",
     "output_type": "stream",
     "text": [
      "Extracting datasets/cifa10/train/cifar-10-python.tar.gz to datasets/cifa10/train\n"
     ]
    }
   ],
   "source": [
    "trainset = torchvision.datasets.CIFAR10(root='datasets/cifa10/train', download=True, train = True, transform= train_transform)"
   ]
  },
  {
   "cell_type": "code",
   "execution_count": 7,
   "metadata": {
    "colab": {
     "base_uri": "https://localhost:8080/",
     "height": 84,
     "referenced_widgets": [
      "036c3505b203414c99c07775c5fe744a",
      "62142a11df60424aaaf11e72b9ab89c0",
      "47b64f044a544b1ab5d6916fa51140e0",
      "5c01d7593c8447f59a36ba24968b50e9",
      "570795f7b1ef4886b44cee91985f7157",
      "2737a41217ca400791822f9fc71c9166",
      "53fa7da33c994382a1c563c21f21cf40",
      "26a1171587004accadf2cffb451c6ffb"
     ]
    },
    "colab_type": "code",
    "id": "HVLHDrtxHEE0",
    "outputId": "04ff6cb4-9c88-4076-defa-710c11da4b06"
   },
   "outputs": [
    {
     "name": "stdout",
     "output_type": "stream",
     "text": [
      "Downloading https://www.cs.toronto.edu/~kriz/cifar-10-python.tar.gz to datasets/cifa10/test/cifar-10-python.tar.gz\n"
     ]
    },
    {
     "data": {
      "application/vnd.jupyter.widget-view+json": {
       "model_id": "036c3505b203414c99c07775c5fe744a",
       "version_major": 2,
       "version_minor": 0
      },
      "text/plain": [
       "HBox(children=(IntProgress(value=1, bar_style='info', max=1), HTML(value='')))"
      ]
     },
     "metadata": {
      "tags": []
     },
     "output_type": "display_data"
    },
    {
     "name": "stdout",
     "output_type": "stream",
     "text": [
      "Extracting datasets/cifa10/test/cifar-10-python.tar.gz to datasets/cifa10/test\n"
     ]
    }
   ],
   "source": [
    "testset = torchvision.datasets.CIFAR10(root='datasets/cifa10/test', download=True, train = False, transform= test_transform)"
   ]
  },
  {
   "cell_type": "code",
   "execution_count": 0,
   "metadata": {
    "colab": {},
    "colab_type": "code",
    "id": "_7sVdfZFHI1L"
   },
   "outputs": [],
   "source": [
    "trainloader = torch.utils.data.DataLoader(trainset, batch_size= 16, shuffle=True)\n",
    "testloader = torch.utils.data.DataLoader(testset, batch_size = 16, shuffle = False )\n"
   ]
  },
  {
   "cell_type": "code",
   "execution_count": 0,
   "metadata": {
    "colab": {},
    "colab_type": "code",
    "id": "Q9HdZZDbs_Ga"
   },
   "outputs": [],
   "source": [
    "in_size = 3 # RGB iamge\n",
    "hid1_size = 16 # conv1 layer\n",
    "hid2_size = 32 # conv2 layer\n",
    "hid3_size = 64\n",
    "\n",
    "out1_size = 2000 # linear layers\n",
    "out2_size =10 # linear layers\n",
    "\n",
    "k_conv_size = 9"
   ]
  },
  {
   "cell_type": "code",
   "execution_count": 0,
   "metadata": {
    "colab": {},
    "colab_type": "code",
    "id": "SP7Ak0fwtOYs"
   },
   "outputs": [],
   "source": [
    "class ConvNet(nn.Module):\n",
    "  def __init__(self):\n",
    "    super(ConvNet, self).__init__()\n",
    "\n",
    "    self.layer1 = nn.Sequential(\n",
    "        nn.Conv2d(in_size, hid1_size, k_conv_size),\n",
    "        nn.BatchNorm2d(hid1_size),\n",
    "        nn.ReLU(),\n",
    "        nn.MaxPool2d(kernel_size=2))\n",
    "    \n",
    "    self.layer2 = nn.Sequential(\n",
    "        nn.Conv2d(hid1_size, hid2_size, k_conv_size),\n",
    "        nn.BatchNorm2d(hid2_size),\n",
    "        nn.ReLU(),\n",
    "        nn.MaxPool2d(kernel_size=2)\n",
    "    )\n",
    "    self.layer3 = nn.Sequential(\n",
    "        nn.Conv2d(hid2_size, hid3_size, k_conv_size),\n",
    "        nn.BatchNorm2d(hid3_size),\n",
    "        nn.ReLU(),\n",
    "        nn.MaxPool2d(kernel_size=2)\n",
    "    )\n",
    "\n",
    "\n",
    "    self.layer4 = nn.Sequential(\n",
    "        nn.Linear(hid3_size * k_conv_size * k_conv_size, out1_size),\n",
    "        nn.ReLU(),\n",
    "        nn.Dropout(0.5),\n",
    "        nn.Linear(out1_size, out2_size)\n",
    "    )\n",
    "\n",
    "  def forward(self,x):\n",
    "    out = self.layer1(x)\n",
    "    out = self.layer2(out)\n",
    "    out = self.layer3(out)\n",
    "\n",
    "    out = out.reshape(out.size(0), -1)\n",
    "    out = self.layer4(out)\n",
    "\n",
    "    return F.log_softmax(out, dim =1)"
   ]
  },
  {
   "cell_type": "code",
   "execution_count": 0,
   "metadata": {
    "colab": {},
    "colab_type": "code",
    "id": "Lff8KDLQuOMV"
   },
   "outputs": [],
   "source": [
    "model = ConvNet()\n",
    "device = torch.device(\"cuda:0\" if torch.cuda.is_available() else \"cpu\")\n",
    "model.to(device)\n",
    "learning_rate = 0.001\n",
    "crierian = nn.NLLLoss()\n",
    "optimizer = torch.optim.Adam(model.parameters(), lr= learning_rate)\n",
    "total_step = len(trainloader)\n",
    "num_epochs = 10\n",
    "loss_values = list()\n",
    "\n"
   ]
  },
  {
   "cell_type": "code",
   "execution_count": 20,
   "metadata": {
    "colab": {
     "base_uri": "https://localhost:8080/",
     "height": 191
    },
    "colab_type": "code",
    "id": "1FAzEw2guSiq",
    "outputId": "88ea41d0-183e-4aba-b318-155a9d481182"
   },
   "outputs": [
    {
     "name": "stdout",
     "output_type": "stream",
     "text": [
      "Epoch [1 / 10], Step [2000 / 3125], Loss: 1.7725\n",
      "Epoch [2 / 10], Step [2000 / 3125], Loss: 1.7090\n",
      "Epoch [3 / 10], Step [2000 / 3125], Loss: 0.8606\n",
      "Epoch [4 / 10], Step [2000 / 3125], Loss: 0.8544\n",
      "Epoch [5 / 10], Step [2000 / 3125], Loss: 0.5069\n",
      "Epoch [6 / 10], Step [2000 / 3125], Loss: 0.8779\n",
      "Epoch [7 / 10], Step [2000 / 3125], Loss: 0.9875\n",
      "Epoch [8 / 10], Step [2000 / 3125], Loss: 0.8182\n",
      "Epoch [9 / 10], Step [2000 / 3125], Loss: 0.8828\n",
      "Epoch [10 / 10], Step [2000 / 3125], Loss: 0.4900\n"
     ]
    }
   ],
   "source": [
    "for epoch in range(num_epochs):\n",
    "  for i, (images, labels) in enumerate(trainloader):\n",
    "    images, labels = images.to(device), labels.to(device)\n",
    "\n",
    "    outputs= model(images)\n",
    "    loss = crierian(outputs, labels)\n",
    "\n",
    "\n",
    "    optimizer.zero_grad()\n",
    "    loss.backward()\n",
    "\n",
    "    optimizer.step()\n",
    "\n",
    "    if (i+1) % 2000 == 0:\n",
    "      print('Epoch [{} / {}], Step [{} / {}], Loss: {:.4f}'.format(epoch+1, num_epochs, i+1, total_step, loss.item()))\n",
    "\n",
    "      loss_values.append(loss.item())"
   ]
  },
  {
   "cell_type": "code",
   "execution_count": 0,
   "metadata": {
    "colab": {},
    "colab_type": "code",
    "id": "b3edvYbQuUk9"
   },
   "outputs": [],
   "source": [
    "calc_accuracy(model)"
   ]
  }
 ],
 "metadata": {
  "accelerator": "GPU",
  "colab": {
   "collapsed_sections": [],
   "name": "Optimizing Image Classification with Hyper parameter tuning..ipynb",
   "provenance": []
  },
  "kernelspec": {
   "display_name": "Python 3",
   "language": "python",
   "name": "python3"
  },
  "language_info": {
   "codemirror_mode": {
    "name": "ipython",
    "version": 3
   },
   "file_extension": ".py",
   "mimetype": "text/x-python",
   "name": "python",
   "nbconvert_exporter": "python",
   "pygments_lexer": "ipython3",
   "version": "3.7.4"
  },
  "widgets": {
   "application/vnd.jupyter.widget-state+json": {
    "036c3505b203414c99c07775c5fe744a": {
     "model_module": "@jupyter-widgets/controls",
     "model_name": "HBoxModel",
     "state": {
      "_dom_classes": [],
      "_model_module": "@jupyter-widgets/controls",
      "_model_module_version": "1.5.0",
      "_model_name": "HBoxModel",
      "_view_count": null,
      "_view_module": "@jupyter-widgets/controls",
      "_view_module_version": "1.5.0",
      "_view_name": "HBoxView",
      "box_style": "",
      "children": [
       "IPY_MODEL_47b64f044a544b1ab5d6916fa51140e0",
       "IPY_MODEL_5c01d7593c8447f59a36ba24968b50e9"
      ],
      "layout": "IPY_MODEL_62142a11df60424aaaf11e72b9ab89c0"
     }
    },
    "0eb542c9c3204b498224c0ffad4c7812": {
     "model_module": "@jupyter-widgets/controls",
     "model_name": "HBoxModel",
     "state": {
      "_dom_classes": [],
      "_model_module": "@jupyter-widgets/controls",
      "_model_module_version": "1.5.0",
      "_model_name": "HBoxModel",
      "_view_count": null,
      "_view_module": "@jupyter-widgets/controls",
      "_view_module_version": "1.5.0",
      "_view_name": "HBoxView",
      "box_style": "",
      "children": [
       "IPY_MODEL_8337373b2e07418e9a2dc495befc45a3",
       "IPY_MODEL_b3ae3f91843442c69d691cabfc0e3042"
      ],
      "layout": "IPY_MODEL_fa4ca95775624db6aa839326111612f7"
     }
    },
    "1f55a772949f47c1a5c976a94814526d": {
     "model_module": "@jupyter-widgets/base",
     "model_name": "LayoutModel",
     "state": {
      "_model_module": "@jupyter-widgets/base",
      "_model_module_version": "1.2.0",
      "_model_name": "LayoutModel",
      "_view_count": null,
      "_view_module": "@jupyter-widgets/base",
      "_view_module_version": "1.2.0",
      "_view_name": "LayoutView",
      "align_content": null,
      "align_items": null,
      "align_self": null,
      "border": null,
      "bottom": null,
      "display": null,
      "flex": null,
      "flex_flow": null,
      "grid_area": null,
      "grid_auto_columns": null,
      "grid_auto_flow": null,
      "grid_auto_rows": null,
      "grid_column": null,
      "grid_gap": null,
      "grid_row": null,
      "grid_template_areas": null,
      "grid_template_columns": null,
      "grid_template_rows": null,
      "height": null,
      "justify_content": null,
      "justify_items": null,
      "left": null,
      "margin": null,
      "max_height": null,
      "max_width": null,
      "min_height": null,
      "min_width": null,
      "object_fit": null,
      "object_position": null,
      "order": null,
      "overflow": null,
      "overflow_x": null,
      "overflow_y": null,
      "padding": null,
      "right": null,
      "top": null,
      "visibility": null,
      "width": null
     }
    },
    "26a1171587004accadf2cffb451c6ffb": {
     "model_module": "@jupyter-widgets/base",
     "model_name": "LayoutModel",
     "state": {
      "_model_module": "@jupyter-widgets/base",
      "_model_module_version": "1.2.0",
      "_model_name": "LayoutModel",
      "_view_count": null,
      "_view_module": "@jupyter-widgets/base",
      "_view_module_version": "1.2.0",
      "_view_name": "LayoutView",
      "align_content": null,
      "align_items": null,
      "align_self": null,
      "border": null,
      "bottom": null,
      "display": null,
      "flex": null,
      "flex_flow": null,
      "grid_area": null,
      "grid_auto_columns": null,
      "grid_auto_flow": null,
      "grid_auto_rows": null,
      "grid_column": null,
      "grid_gap": null,
      "grid_row": null,
      "grid_template_areas": null,
      "grid_template_columns": null,
      "grid_template_rows": null,
      "height": null,
      "justify_content": null,
      "justify_items": null,
      "left": null,
      "margin": null,
      "max_height": null,
      "max_width": null,
      "min_height": null,
      "min_width": null,
      "object_fit": null,
      "object_position": null,
      "order": null,
      "overflow": null,
      "overflow_x": null,
      "overflow_y": null,
      "padding": null,
      "right": null,
      "top": null,
      "visibility": null,
      "width": null
     }
    },
    "2737a41217ca400791822f9fc71c9166": {
     "model_module": "@jupyter-widgets/base",
     "model_name": "LayoutModel",
     "state": {
      "_model_module": "@jupyter-widgets/base",
      "_model_module_version": "1.2.0",
      "_model_name": "LayoutModel",
      "_view_count": null,
      "_view_module": "@jupyter-widgets/base",
      "_view_module_version": "1.2.0",
      "_view_name": "LayoutView",
      "align_content": null,
      "align_items": null,
      "align_self": null,
      "border": null,
      "bottom": null,
      "display": null,
      "flex": null,
      "flex_flow": null,
      "grid_area": null,
      "grid_auto_columns": null,
      "grid_auto_flow": null,
      "grid_auto_rows": null,
      "grid_column": null,
      "grid_gap": null,
      "grid_row": null,
      "grid_template_areas": null,
      "grid_template_columns": null,
      "grid_template_rows": null,
      "height": null,
      "justify_content": null,
      "justify_items": null,
      "left": null,
      "margin": null,
      "max_height": null,
      "max_width": null,
      "min_height": null,
      "min_width": null,
      "object_fit": null,
      "object_position": null,
      "order": null,
      "overflow": null,
      "overflow_x": null,
      "overflow_y": null,
      "padding": null,
      "right": null,
      "top": null,
      "visibility": null,
      "width": null
     }
    },
    "47b64f044a544b1ab5d6916fa51140e0": {
     "model_module": "@jupyter-widgets/controls",
     "model_name": "IntProgressModel",
     "state": {
      "_dom_classes": [],
      "_model_module": "@jupyter-widgets/controls",
      "_model_module_version": "1.5.0",
      "_model_name": "IntProgressModel",
      "_view_count": null,
      "_view_module": "@jupyter-widgets/controls",
      "_view_module_version": "1.5.0",
      "_view_name": "ProgressView",
      "bar_style": "info",
      "description": "",
      "description_tooltip": null,
      "layout": "IPY_MODEL_2737a41217ca400791822f9fc71c9166",
      "max": 1,
      "min": 0,
      "orientation": "horizontal",
      "style": "IPY_MODEL_570795f7b1ef4886b44cee91985f7157",
      "value": 1
     }
    },
    "53fa7da33c994382a1c563c21f21cf40": {
     "model_module": "@jupyter-widgets/controls",
     "model_name": "DescriptionStyleModel",
     "state": {
      "_model_module": "@jupyter-widgets/controls",
      "_model_module_version": "1.5.0",
      "_model_name": "DescriptionStyleModel",
      "_view_count": null,
      "_view_module": "@jupyter-widgets/base",
      "_view_module_version": "1.2.0",
      "_view_name": "StyleView",
      "description_width": ""
     }
    },
    "570795f7b1ef4886b44cee91985f7157": {
     "model_module": "@jupyter-widgets/controls",
     "model_name": "ProgressStyleModel",
     "state": {
      "_model_module": "@jupyter-widgets/controls",
      "_model_module_version": "1.5.0",
      "_model_name": "ProgressStyleModel",
      "_view_count": null,
      "_view_module": "@jupyter-widgets/base",
      "_view_module_version": "1.2.0",
      "_view_name": "StyleView",
      "bar_color": null,
      "description_width": "initial"
     }
    },
    "5c01d7593c8447f59a36ba24968b50e9": {
     "model_module": "@jupyter-widgets/controls",
     "model_name": "HTMLModel",
     "state": {
      "_dom_classes": [],
      "_model_module": "@jupyter-widgets/controls",
      "_model_module_version": "1.5.0",
      "_model_name": "HTMLModel",
      "_view_count": null,
      "_view_module": "@jupyter-widgets/controls",
      "_view_module_version": "1.5.0",
      "_view_name": "HTMLView",
      "description": "",
      "description_tooltip": null,
      "layout": "IPY_MODEL_26a1171587004accadf2cffb451c6ffb",
      "placeholder": "​",
      "style": "IPY_MODEL_53fa7da33c994382a1c563c21f21cf40",
      "value": " 170500096/? [00:23&lt;00:00, 52897695.17it/s]"
     }
    },
    "61dd2199d07e46208bd2e2325072a83f": {
     "model_module": "@jupyter-widgets/controls",
     "model_name": "DescriptionStyleModel",
     "state": {
      "_model_module": "@jupyter-widgets/controls",
      "_model_module_version": "1.5.0",
      "_model_name": "DescriptionStyleModel",
      "_view_count": null,
      "_view_module": "@jupyter-widgets/base",
      "_view_module_version": "1.2.0",
      "_view_name": "StyleView",
      "description_width": ""
     }
    },
    "62142a11df60424aaaf11e72b9ab89c0": {
     "model_module": "@jupyter-widgets/base",
     "model_name": "LayoutModel",
     "state": {
      "_model_module": "@jupyter-widgets/base",
      "_model_module_version": "1.2.0",
      "_model_name": "LayoutModel",
      "_view_count": null,
      "_view_module": "@jupyter-widgets/base",
      "_view_module_version": "1.2.0",
      "_view_name": "LayoutView",
      "align_content": null,
      "align_items": null,
      "align_self": null,
      "border": null,
      "bottom": null,
      "display": null,
      "flex": null,
      "flex_flow": null,
      "grid_area": null,
      "grid_auto_columns": null,
      "grid_auto_flow": null,
      "grid_auto_rows": null,
      "grid_column": null,
      "grid_gap": null,
      "grid_row": null,
      "grid_template_areas": null,
      "grid_template_columns": null,
      "grid_template_rows": null,
      "height": null,
      "justify_content": null,
      "justify_items": null,
      "left": null,
      "margin": null,
      "max_height": null,
      "max_width": null,
      "min_height": null,
      "min_width": null,
      "object_fit": null,
      "object_position": null,
      "order": null,
      "overflow": null,
      "overflow_x": null,
      "overflow_y": null,
      "padding": null,
      "right": null,
      "top": null,
      "visibility": null,
      "width": null
     }
    },
    "8337373b2e07418e9a2dc495befc45a3": {
     "model_module": "@jupyter-widgets/controls",
     "model_name": "IntProgressModel",
     "state": {
      "_dom_classes": [],
      "_model_module": "@jupyter-widgets/controls",
      "_model_module_version": "1.5.0",
      "_model_name": "IntProgressModel",
      "_view_count": null,
      "_view_module": "@jupyter-widgets/controls",
      "_view_module_version": "1.5.0",
      "_view_name": "ProgressView",
      "bar_style": "info",
      "description": "",
      "description_tooltip": null,
      "layout": "IPY_MODEL_9aef89bdd34e413ca8651566991f7c54",
      "max": 1,
      "min": 0,
      "orientation": "horizontal",
      "style": "IPY_MODEL_e175f8e0fd9248d0b54f53895d50758b",
      "value": 1
     }
    },
    "9aef89bdd34e413ca8651566991f7c54": {
     "model_module": "@jupyter-widgets/base",
     "model_name": "LayoutModel",
     "state": {
      "_model_module": "@jupyter-widgets/base",
      "_model_module_version": "1.2.0",
      "_model_name": "LayoutModel",
      "_view_count": null,
      "_view_module": "@jupyter-widgets/base",
      "_view_module_version": "1.2.0",
      "_view_name": "LayoutView",
      "align_content": null,
      "align_items": null,
      "align_self": null,
      "border": null,
      "bottom": null,
      "display": null,
      "flex": null,
      "flex_flow": null,
      "grid_area": null,
      "grid_auto_columns": null,
      "grid_auto_flow": null,
      "grid_auto_rows": null,
      "grid_column": null,
      "grid_gap": null,
      "grid_row": null,
      "grid_template_areas": null,
      "grid_template_columns": null,
      "grid_template_rows": null,
      "height": null,
      "justify_content": null,
      "justify_items": null,
      "left": null,
      "margin": null,
      "max_height": null,
      "max_width": null,
      "min_height": null,
      "min_width": null,
      "object_fit": null,
      "object_position": null,
      "order": null,
      "overflow": null,
      "overflow_x": null,
      "overflow_y": null,
      "padding": null,
      "right": null,
      "top": null,
      "visibility": null,
      "width": null
     }
    },
    "b3ae3f91843442c69d691cabfc0e3042": {
     "model_module": "@jupyter-widgets/controls",
     "model_name": "HTMLModel",
     "state": {
      "_dom_classes": [],
      "_model_module": "@jupyter-widgets/controls",
      "_model_module_version": "1.5.0",
      "_model_name": "HTMLModel",
      "_view_count": null,
      "_view_module": "@jupyter-widgets/controls",
      "_view_module_version": "1.5.0",
      "_view_name": "HTMLView",
      "description": "",
      "description_tooltip": null,
      "layout": "IPY_MODEL_1f55a772949f47c1a5c976a94814526d",
      "placeholder": "​",
      "style": "IPY_MODEL_61dd2199d07e46208bd2e2325072a83f",
      "value": " 170500096/? [00:20&lt;00:00, 48723658.48it/s]"
     }
    },
    "e175f8e0fd9248d0b54f53895d50758b": {
     "model_module": "@jupyter-widgets/controls",
     "model_name": "ProgressStyleModel",
     "state": {
      "_model_module": "@jupyter-widgets/controls",
      "_model_module_version": "1.5.0",
      "_model_name": "ProgressStyleModel",
      "_view_count": null,
      "_view_module": "@jupyter-widgets/base",
      "_view_module_version": "1.2.0",
      "_view_name": "StyleView",
      "bar_color": null,
      "description_width": "initial"
     }
    },
    "fa4ca95775624db6aa839326111612f7": {
     "model_module": "@jupyter-widgets/base",
     "model_name": "LayoutModel",
     "state": {
      "_model_module": "@jupyter-widgets/base",
      "_model_module_version": "1.2.0",
      "_model_name": "LayoutModel",
      "_view_count": null,
      "_view_module": "@jupyter-widgets/base",
      "_view_module_version": "1.2.0",
      "_view_name": "LayoutView",
      "align_content": null,
      "align_items": null,
      "align_self": null,
      "border": null,
      "bottom": null,
      "display": null,
      "flex": null,
      "flex_flow": null,
      "grid_area": null,
      "grid_auto_columns": null,
      "grid_auto_flow": null,
      "grid_auto_rows": null,
      "grid_column": null,
      "grid_gap": null,
      "grid_row": null,
      "grid_template_areas": null,
      "grid_template_columns": null,
      "grid_template_rows": null,
      "height": null,
      "justify_content": null,
      "justify_items": null,
      "left": null,
      "margin": null,
      "max_height": null,
      "max_width": null,
      "min_height": null,
      "min_width": null,
      "object_fit": null,
      "object_position": null,
      "order": null,
      "overflow": null,
      "overflow_x": null,
      "overflow_y": null,
      "padding": null,
      "right": null,
      "top": null,
      "visibility": null,
      "width": null
     }
    }
   }
  }
 },
 "nbformat": 4,
 "nbformat_minor": 1
}
