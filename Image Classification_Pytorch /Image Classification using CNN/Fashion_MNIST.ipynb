{
 "cells": [
  {
   "cell_type": "code",
   "execution_count": 1,
   "metadata": {
    "colab": {},
    "colab_type": "code",
    "id": "qsM763sfJ9FS"
   },
   "outputs": [],
   "source": [
    "import numpy as np\n",
    "import torch\n"
   ]
  },
  {
   "cell_type": "code",
   "execution_count": 2,
   "metadata": {
    "colab": {},
    "colab_type": "code",
    "id": "qo2OK-TkKAiX"
   },
   "outputs": [],
   "source": [
    "from torchvision import datasets, transforms"
   ]
  },
  {
   "cell_type": "code",
   "execution_count": 3,
   "metadata": {
    "colab": {},
    "colab_type": "code",
    "id": "maEwoKs_KEJb"
   },
   "outputs": [
    {
     "name": "stdout",
     "output_type": "stream",
     "text": [
      "Downloading http://fashion-mnist.s3-website.eu-central-1.amazonaws.com/train-images-idx3-ubyte.gz to fashionmnist/FashionMNIST/raw/train-images-idx3-ubyte.gz\n"
     ]
    },
    {
     "data": {
      "application/vnd.jupyter.widget-view+json": {
       "model_id": "261ab96e914f4c2eb5c62be6c3b05509",
       "version_major": 2,
       "version_minor": 0
      },
      "text/plain": [
       "HBox(children=(IntProgress(value=1, bar_style='info', max=1), HTML(value='')))"
      ]
     },
     "metadata": {},
     "output_type": "display_data"
    },
    {
     "name": "stdout",
     "output_type": "stream",
     "text": [
      "Extracting fashionmnist/FashionMNIST/raw/train-images-idx3-ubyte.gz to fashionmnist/FashionMNIST/raw\n",
      "Downloading http://fashion-mnist.s3-website.eu-central-1.amazonaws.com/train-labels-idx1-ubyte.gz to fashionmnist/FashionMNIST/raw/train-labels-idx1-ubyte.gz\n"
     ]
    },
    {
     "data": {
      "application/vnd.jupyter.widget-view+json": {
       "model_id": "4c1f6b89584040d5897ac78b3b3e5d37",
       "version_major": 2,
       "version_minor": 0
      },
      "text/plain": [
       "HBox(children=(IntProgress(value=1, bar_style='info', max=1), HTML(value='')))"
      ]
     },
     "metadata": {},
     "output_type": "display_data"
    },
    {
     "name": "stdout",
     "output_type": "stream",
     "text": [
      "Extracting fashionmnist/FashionMNIST/raw/train-labels-idx1-ubyte.gz to fashionmnist/FashionMNIST/raw\n",
      "Downloading http://fashion-mnist.s3-website.eu-central-1.amazonaws.com/t10k-images-idx3-ubyte.gz to fashionmnist/FashionMNIST/raw/t10k-images-idx3-ubyte.gz\n"
     ]
    },
    {
     "data": {
      "application/vnd.jupyter.widget-view+json": {
       "model_id": "8183051858da453eb892e14ad6deb117",
       "version_major": 2,
       "version_minor": 0
      },
      "text/plain": [
       "HBox(children=(IntProgress(value=1, bar_style='info', max=1), HTML(value='')))"
      ]
     },
     "metadata": {},
     "output_type": "display_data"
    },
    {
     "name": "stdout",
     "output_type": "stream",
     "text": [
      "Extracting fashionmnist/FashionMNIST/raw/t10k-images-idx3-ubyte.gz to fashionmnist/FashionMNIST/raw\n",
      "Downloading http://fashion-mnist.s3-website.eu-central-1.amazonaws.com/t10k-labels-idx1-ubyte.gz to fashionmnist/FashionMNIST/raw/t10k-labels-idx1-ubyte.gz\n"
     ]
    },
    {
     "data": {
      "application/vnd.jupyter.widget-view+json": {
       "model_id": "6c2cf0cbc7dc48fda21c03ff434d749a",
       "version_major": 2,
       "version_minor": 0
      },
      "text/plain": [
       "HBox(children=(IntProgress(value=1, bar_style='info', max=1), HTML(value='')))"
      ]
     },
     "metadata": {},
     "output_type": "display_data"
    },
    {
     "name": "stdout",
     "output_type": "stream",
     "text": [
      "Extracting fashionmnist/FashionMNIST/raw/t10k-labels-idx1-ubyte.gz to fashionmnist/FashionMNIST/raw\n",
      "Processing...\n"
     ]
    },
    {
     "name": "stderr",
     "output_type": "stream",
     "text": [
      "/opt/conda/conda-bld/pytorch_1587428266983/work/torch/csrc/utils/tensor_numpy.cpp:141: UserWarning: The given NumPy array is not writeable, and PyTorch does not support non-writeable tensors. This means you can write to the underlying (supposedly non-writeable) NumPy array using the tensor. You may want to copy the array to protect its data or make it writeable before converting it to a tensor. This type of warning will be suppressed for the rest of this program.\n"
     ]
    },
    {
     "name": "stdout",
     "output_type": "stream",
     "text": [
      "Done!\n"
     ]
    }
   ],
   "source": [
    "transform = transforms.Compose([transforms.ToTensor(),\n",
    "                                transforms.Normalize((0.5,), (0.5,))\n",
    "                                ])\n",
    "\n",
    "trainset = datasets.FashionMNIST('fashionmnist/', download = True, train= True, transform=transform)\n",
    "trainloader = torch.utils.data.DataLoader(trainset, batch_size =64, shuffle=True)\n",
    "\n",
    "\n",
    "testset = datasets.FashionMNIST('fashionmnist/', download = True, train= False, transform=transform)\n",
    "testloader = torch.utils.data.DataLoader(testset, batch_size =64, shuffle=True)\n"
   ]
  },
  {
   "cell_type": "code",
   "execution_count": 7,
   "metadata": {
    "colab": {},
    "colab_type": "code",
    "id": "98H25-0MKsCB"
   },
   "outputs": [],
   "source": [
    "dataiter = iter(trainloader)\n",
    "images, labels = dataiter.next()\n",
    "\n"
   ]
  },
  {
   "cell_type": "code",
   "execution_count": 8,
   "metadata": {
    "colab": {
     "base_uri": "https://localhost:8080/",
     "height": 69
    },
    "colab_type": "code",
    "id": "mdZotj7TNuf9",
    "outputId": "7499c817-dd0c-4fc3-fc4b-55d9347fba37"
   },
   "outputs": [
    {
     "name": "stdout",
     "output_type": "stream",
     "text": [
      "<class 'torch.Tensor'>\n",
      "torch.Size([64, 1, 28, 28])\n",
      "torch.Size([64])\n"
     ]
    }
   ],
   "source": [
    "print(type(images))\n",
    "print(images.shape)\n",
    "print(labels.shape)"
   ]
  },
  {
   "cell_type": "code",
   "execution_count": 9,
   "metadata": {
    "colab": {
     "base_uri": "https://localhost:8080/",
     "height": 282
    },
    "colab_type": "code",
    "id": "AUVZopK3PDP6",
    "outputId": "8ad5d429-88e3-4939-a9aa-bdc283056a90"
   },
   "outputs": [
    {
     "data": {
      "text/plain": [
       "<matplotlib.image.AxesImage at 0x7fa2b1e0a090>"
      ]
     },
     "execution_count": 9,
     "metadata": {},
     "output_type": "execute_result"
    }
   ],
   "source": [
    "import matplotlib.pyplot as plt\n",
    "plt.imshow(images[1].numpy().squeeze(), cmap ='Greys_r')"
   ]
  },
  {
   "cell_type": "code",
   "execution_count": 10,
   "metadata": {
    "colab": {},
    "colab_type": "code",
    "id": "1MhoSmFBPLsJ"
   },
   "outputs": [],
   "source": [
    "from torch import optim,nn\n",
    "import torch.nn.functional as F"
   ]
  },
  {
   "cell_type": "code",
   "execution_count": 11,
   "metadata": {
    "colab": {},
    "colab_type": "code",
    "id": "ht3a86lzPez4"
   },
   "outputs": [],
   "source": [
    "class Classifier(nn.Module):\n",
    "  def __init__(self):\n",
    "    super().__init__()\n",
    "    self.fc1 = nn.Linear(784, 256)\n",
    "    self.fc2 = nn.Linear(256, 128)\n",
    "    self.fc3 = nn.Linear(128, 64)\n",
    "    self.fc4 = nn.Linear(64,10)\n",
    "\n",
    "  def forward(self,x):\n",
    "    x = x.view(x.shape[0], -1)\n",
    "    x = F.relu(self.fc1(x))\n",
    "    x = F.relu(self.fc2(x))\n",
    "    x = F.relu(self.fc3(x))\n",
    "    x = F.log_softmax(self.fc4(x), dim =1)\n",
    "\n",
    "    return x"
   ]
  },
  {
   "cell_type": "code",
   "execution_count": 12,
   "metadata": {
    "colab": {
     "base_uri": "https://localhost:8080/",
     "height": 34
    },
    "colab_type": "code",
    "id": "KZzVqz6JSsrk",
    "outputId": "e246b20f-ffc6-4caa-f9d1-4ec626e351fe"
   },
   "outputs": [
    {
     "name": "stdout",
     "output_type": "stream",
     "text": [
      "torch.Size([64, 10])\n"
     ]
    }
   ],
   "source": [
    "model = Classifier()\n",
    "images, labels = next(iter(testloader))\n",
    "\n",
    "# get the class prob.\n",
    "\n",
    "ps = torch.exp(model(images))\n",
    "print(ps.shape)"
   ]
  },
  {
   "cell_type": "code",
   "execution_count": 13,
   "metadata": {},
   "outputs": [
    {
     "data": {
      "text/plain": [
       "Classifier(\n",
       "  (fc1): Linear(in_features=784, out_features=256, bias=True)\n",
       "  (fc2): Linear(in_features=256, out_features=128, bias=True)\n",
       "  (fc3): Linear(in_features=128, out_features=64, bias=True)\n",
       "  (fc4): Linear(in_features=64, out_features=10, bias=True)\n",
       ")"
      ]
     },
     "execution_count": 13,
     "metadata": {},
     "output_type": "execute_result"
    }
   ],
   "source": [
    "model"
   ]
  },
  {
   "cell_type": "code",
   "execution_count": 0,
   "metadata": {
    "colab": {
     "base_uri": "https://localhost:8080/",
     "height": 191
    },
    "colab_type": "code",
    "id": "dy_l30xWSsvD",
    "outputId": "83a0a518-cba3-4717-ec42-bf5cf6a803c2"
   },
   "outputs": [
    {
     "name": "stdout",
     "output_type": "stream",
     "text": [
      "tensor([[2],\n",
      "        [2],\n",
      "        [2],\n",
      "        [7],\n",
      "        [2],\n",
      "        [8],\n",
      "        [2],\n",
      "        [7],\n",
      "        [2],\n",
      "        [2]])\n"
     ]
    }
   ],
   "source": [
    "top_p, top_class = ps.topk(1, dim=1)\n",
    "print(top_class[:10, :])"
   ]
  },
  {
   "cell_type": "code",
   "execution_count": 0,
   "metadata": {
    "colab": {},
    "colab_type": "code",
    "id": "mBBi5bfgSsyt"
   },
   "outputs": [],
   "source": [
    "equal = top_class == labels.view(*top_class.shape)"
   ]
  },
  {
   "cell_type": "code",
   "execution_count": 0,
   "metadata": {
    "colab": {
     "base_uri": "https://localhost:8080/",
     "height": 1000
    },
    "colab_type": "code",
    "id": "GHocxSYTSspo",
    "outputId": "8637ba21-1768-4aa5-d273-2b8352bf6305"
   },
   "outputs": [
    {
     "data": {
      "text/plain": [
       "tensor([[False],\n",
       "        [ True],\n",
       "        [False],\n",
       "        [False],\n",
       "        [False],\n",
       "        [False],\n",
       "        [False],\n",
       "        [False],\n",
       "        [ True],\n",
       "        [False],\n",
       "        [False],\n",
       "        [False],\n",
       "        [False],\n",
       "        [False],\n",
       "        [False],\n",
       "        [False],\n",
       "        [False],\n",
       "        [False],\n",
       "        [False],\n",
       "        [False],\n",
       "        [False],\n",
       "        [False],\n",
       "        [False],\n",
       "        [False],\n",
       "        [False],\n",
       "        [False],\n",
       "        [False],\n",
       "        [False],\n",
       "        [False],\n",
       "        [False],\n",
       "        [False],\n",
       "        [False],\n",
       "        [False],\n",
       "        [False],\n",
       "        [False],\n",
       "        [False],\n",
       "        [False],\n",
       "        [False],\n",
       "        [False],\n",
       "        [False],\n",
       "        [False],\n",
       "        [ True],\n",
       "        [False],\n",
       "        [False],\n",
       "        [False],\n",
       "        [False],\n",
       "        [False],\n",
       "        [False],\n",
       "        [False],\n",
       "        [False],\n",
       "        [False],\n",
       "        [False],\n",
       "        [False],\n",
       "        [False],\n",
       "        [False],\n",
       "        [False],\n",
       "        [ True],\n",
       "        [False],\n",
       "        [False],\n",
       "        [False],\n",
       "        [False],\n",
       "        [False],\n",
       "        [False],\n",
       "        [False]])"
      ]
     },
     "execution_count": 16,
     "metadata": {
      "tags": []
     },
     "output_type": "execute_result"
    }
   ],
   "source": [
    "equal"
   ]
  },
  {
   "cell_type": "code",
   "execution_count": 0,
   "metadata": {
    "colab": {
     "base_uri": "https://localhost:8080/",
     "height": 34
    },
    "colab_type": "code",
    "id": "3Cm_0MF3Ssm1",
    "outputId": "31615dba-13d9-47ca-fb76-4264f3b676f2"
   },
   "outputs": [
    {
     "data": {
      "text/plain": [
       "6.25"
      ]
     },
     "execution_count": 17,
     "metadata": {
      "tags": []
     },
     "output_type": "execute_result"
    }
   ],
   "source": [
    "accuracy = torch.mean(equal.type(torch.FloatTensor))\n",
    "accuracy.item()*100"
   ]
  },
  {
   "cell_type": "code",
   "execution_count": 0,
   "metadata": {
    "colab": {
     "base_uri": "https://localhost:8080/",
     "height": 121
    },
    "colab_type": "code",
    "id": "FBS77dXAQIoB",
    "outputId": "8ecb0d3c-8685-4783-eb40-925b8126cb04"
   },
   "outputs": [
    {
     "data": {
      "text/plain": [
       "Classifier(\n",
       "  (fc1): Linear(in_features=784, out_features=256, bias=True)\n",
       "  (fc2): Linear(in_features=256, out_features=128, bias=True)\n",
       "  (fc3): Linear(in_features=128, out_features=64, bias=True)\n",
       "  (fc4): Linear(in_features=64, out_features=10, bias=True)\n",
       ")"
      ]
     },
     "execution_count": 18,
     "metadata": {
      "tags": []
     },
     "output_type": "execute_result"
    }
   ],
   "source": [
    "model = Classifier()\n",
    "model"
   ]
  },
  {
   "cell_type": "code",
   "execution_count": 18,
   "metadata": {
    "colab": {},
    "colab_type": "code",
    "id": "6-5DM-1iQMlV"
   },
   "outputs": [
    {
     "data": {
      "text/plain": [
       "tensor([6, 8, 9, 9, 1, 4, 4, 6, 5, 5, 2, 6, 0, 2, 8, 1, 0, 1, 8, 0, 5, 8, 5, 8,\n",
       "        5, 1, 3, 5, 4, 4, 3, 0])"
      ]
     },
     "execution_count": 18,
     "metadata": {},
     "output_type": "execute_result"
    }
   ],
   "source": [
    "criterian = nn.NLLLoss()\n",
    "optimizer = optim.Adam(model.parameters(), lr =0.0003)\n",
    "labels"
   ]
  },
  {
   "cell_type": "code",
   "execution_count": 17,
   "metadata": {
    "colab": {
     "base_uri": "https://localhost:8080/",
     "height": 104
    },
    "colab_type": "code",
    "id": "nU96P8GnQad4",
    "outputId": "b3d89b4d-b7a2-4db4-95ef-5a5450894fb5"
   },
   "outputs": [
    {
     "name": "stdout",
     "output_type": "stream",
     "text": [
      "training loss:0.2964657690209239\n"
     ]
    }
   ],
   "source": [
    "epochs =1\n",
    "for e in range(epochs):\n",
    "  running_loss = 0 \n",
    "  for images,labels in trainloader:\n",
    "    images= images.view(images.shape[0], -1)\n",
    "    optimizer.zero_grad()\n",
    "    output = model.forward(images)\n",
    "    #print(output)\n",
    "    loss = criterian(output, labels)\n",
    "    loss.backward()\n",
    "    optimizer.step()\n",
    "    running_loss += loss.item()\n",
    "  else:\n",
    "    print(f\"training loss:{running_loss /len(trainloader)}\")"
   ]
  },
  {
   "cell_type": "code",
   "execution_count": 0,
   "metadata": {
    "colab": {
     "base_uri": "https://localhost:8080/",
     "height": 191
    },
    "colab_type": "code",
    "id": "abNpEsojRPX8",
    "outputId": "4d436084-0980-45e5-d8cb-e3143bcaaca4"
   },
   "outputs": [
    {
     "name": "stdout",
     "output_type": "stream",
     "text": [
      "epoch :1 / 10.. Training loss: 0.589.. test_loss: 0.456.. test accuracy: 0.062\n",
      "epoch :2 / 10.. Training loss: 0.405.. test_loss: 0.434.. test accuracy: 0.062\n",
      "epoch :3 / 10.. Training loss: 0.362.. test_loss: 0.393.. test accuracy: 0.062\n",
      "epoch :4 / 10.. Training loss: 0.335.. test_loss: 0.377.. test accuracy: 0.062\n",
      "epoch :5 / 10.. Training loss: 0.313.. test_loss: 0.359.. test accuracy: 0.062\n",
      "epoch :6 / 10.. Training loss: 0.297.. test_loss: 0.346.. test accuracy: 0.062\n",
      "epoch :7 / 10.. Training loss: 0.282.. test_loss: 0.350.. test accuracy: 0.062\n",
      "epoch :8 / 10.. Training loss: 0.268.. test_loss: 0.336.. test accuracy: 0.062\n",
      "epoch :9 / 10.. Training loss: 0.258.. test_loss: 0.363.. test accuracy: 0.062\n",
      "epoch :10 / 10.. Training loss: 0.246.. test_loss: 0.329.. test accuracy: 0.062\n"
     ]
    }
   ],
   "source": [
    "# validation part\n",
    "model = Classifier()\n",
    "\n",
    "criterian = nn.NLLLoss()\n",
    "optimizer = optim.Adam(model.parameters(), lr =0.0003)\n",
    "\n",
    "\n",
    "epochs = 10\n",
    "step =0\n",
    "\n",
    "train_losses, test_losses =[], []\n",
    "\n",
    "for e in range(epochs):\n",
    "  running_loss = 0 \n",
    "  for images,labels in trainloader:\n",
    "    images= images.view(images.shape[0], -1)\n",
    "    optimizer.zero_grad()\n",
    "    output = model.forward(images)\n",
    "    loss = criterian(output, labels)\n",
    "    loss.backward()\n",
    "    optimizer.step()\n",
    "    running_loss += loss.item()\n",
    "  else:\n",
    "    test_loss = 0 \n",
    "    accuracy =0\n",
    "\n",
    "    #turn off grad ofr validation\n",
    "    with torch.no_grad():\n",
    "      for images, labels in testloader:\n",
    "        log_ps =model(images)\n",
    "        test_loss += criterian(log_ps, labels)\n",
    "\n",
    "        ps = torch.exp(log_ps)\n",
    "        top_p, top_class = ps.topk(1, dim =1)\n",
    "\n",
    "        equals = top_class == labels.view(*top_class.shape)\n",
    "        accuracy += torch.mean(equal.type(torch.FloatTensor))\n",
    "\n",
    "\n",
    "      train_losses.append(running_loss / len(trainloader))\n",
    "      test_losses.append(test_loss / len(testloader))\n",
    "\n",
    "      print(\"epoch :{} / {}..\".format(e+1, epochs),\n",
    "            \"Training loss: {:.3f}..\".format(running_loss/ len(trainloader)),\n",
    "            \"test_loss: {:.3f}..\".format(test_loss/len(testloader)),\n",
    "            \"test accuracy: {:.3f}\".format(accuracy/ len(testloader)))\n",
    "\n",
    "\n",
    "      \n",
    "\n",
    "\n",
    "\n"
   ]
  },
  {
   "cell_type": "code",
   "execution_count": 0,
   "metadata": {
    "colab": {
     "base_uri": "https://localhost:8080/",
     "height": 283
    },
    "colab_type": "code",
    "id": "gGfkfCo2XExv",
    "outputId": "5f8debc9-8b8d-4180-cebc-62f8124aefcf"
   },
   "outputs": [
    {
     "data": {
      "text/plain": [
       "<matplotlib.legend.Legend at 0x7f2693860588>"
      ]
     },
     "execution_count": 22,
     "metadata": {
      "tags": []
     },
     "output_type": "execute_result"
    },
    {
     "data": {
      "image/png": "[encoded data removed]",
      "text/plain": [
       "<Figure size 432x288 with 1 Axes>"
      ]
     },
     "metadata": {
      "needs_background": "light",
      "tags": []
     },
     "output_type": "display_data"
    }
   ],
   "source": [
    "plt.plot(train_losses, label ='Training loss')\n",
    "plt.plot(test_losses, label ='Validation loss')\n",
    "plt.legend()"
   ]
  },
  {
   "cell_type": "code",
   "execution_count": 0,
   "metadata": {
    "colab": {},
    "colab_type": "code",
    "id": "sFFi8uVcU5jm"
   },
   "outputs": [],
   "source": [
    "class Classifier(nn.Module):\n",
    "  def __init__(self):\n",
    "    super().__init__()\n",
    "    self.fc1 = nn.Linear(784, 256)\n",
    "    self.fc2 = nn.Linear(256, 128)\n",
    "    self.fc3 = nn.Linear(128, 64)\n",
    "    self.fc4 = nn.Linear(64,10)\n",
    "\n",
    "    self.dropout = nn.Dropout(p=0.2)\n",
    "\n",
    "  def forward(self,x):\n",
    "    x = x.view(x.shape[0], -1)\n",
    "    x = self.dropout(F.relu(self.fc1(x)))\n",
    "    x = self.dropout(F.relu(self.fc2(x)))\n",
    "    x = self.dropout(F.relu(self.fc3(x))) \n",
    "    \n",
    "    x = F.log_softmax(self.fc4(x), dim =1)\n",
    "\n",
    "    return x"
   ]
  },
  {
   "cell_type": "code",
   "execution_count": 0,
   "metadata": {
    "colab": {
     "base_uri": "https://localhost:8080/",
     "height": 191
    },
    "colab_type": "code",
    "id": "53M_FhJtWZrR",
    "outputId": "be670a7b-177c-4d1f-d826-3ff688f1575e"
   },
   "outputs": [
    {
     "name": "stdout",
     "output_type": "stream",
     "text": [
      "epoch :1 / 10.. Training loss: 0.713.. test_loss: 0.466.. test accuracy: 0.062\n",
      "epoch :2 / 10.. Training loss: 0.463.. test_loss: 0.424.. test accuracy: 0.062\n",
      "epoch :3 / 10.. Training loss: 0.414.. test_loss: 0.402.. test accuracy: 0.062\n",
      "epoch :4 / 10.. Training loss: 0.386.. test_loss: 0.384.. test accuracy: 0.062\n",
      "epoch :5 / 10.. Training loss: 0.366.. test_loss: 0.378.. test accuracy: 0.062\n",
      "epoch :6 / 10.. Training loss: 0.348.. test_loss: 0.354.. test accuracy: 0.062\n",
      "epoch :7 / 10.. Training loss: 0.333.. test_loss: 0.352.. test accuracy: 0.062\n",
      "epoch :8 / 10.. Training loss: 0.320.. test_loss: 0.354.. test accuracy: 0.062\n",
      "epoch :9 / 10.. Training loss: 0.313.. test_loss: 0.342.. test accuracy: 0.062\n",
      "epoch :10 / 10.. Training loss: 0.300.. test_loss: 0.346.. test accuracy: 0.062\n"
     ]
    }
   ],
   "source": [
    "# validation part\n",
    "model = Classifier()\n",
    "\n",
    "criterian = nn.NLLLoss()\n",
    "optimizer = optim.Adam(model.parameters(), lr =0.0003)\n",
    "\n",
    "\n",
    "epochs =10 \n",
    "step =0\n",
    "\n",
    "train_losses, test_losses =[], []\n",
    "\n",
    "for e in range(epochs):\n",
    "  running_loss = 0 \n",
    "  for images,labels in trainloader:\n",
    "    images= images.view(images.shape[0], -1)\n",
    "    optimizer.zero_grad()\n",
    "    output = model.forward(images)\n",
    "    loss = criterian(output, labels)\n",
    "    loss.backward()\n",
    "    optimizer.step()\n",
    "    running_loss += loss.item()\n",
    "  else:\n",
    "    test_loss = 0 \n",
    "    accuracy =0\n",
    "\n",
    "    #turn off grad ofr validation\n",
    "    with torch.no_grad():\n",
    "      model.eval()\n",
    "      for images, labels in testloader:\n",
    "        log_ps =model(images)\n",
    "        test_loss += criterian(log_ps, labels)\n",
    "\n",
    "        ps = torch.exp(log_ps)\n",
    "        top_p, top_class = ps.topk(1, dim =1)\n",
    "\n",
    "        equals = top_class == labels.view(*top_class.shape)\n",
    "        accuracy += torch.mean(equal.type(torch.FloatTensor))\n",
    "\n",
    "      model.train()\n",
    "      train_losses.append(running_loss / len(trainloader))\n",
    "      test_losses.append(test_loss / len(testloader))\n",
    "\n",
    "      print(\"epoch :{} / {}..\".format(e+1, epochs),\n",
    "            \"Training loss: {:.3f}..\".format(running_loss/ len(trainloader)),\n",
    "            \"test_loss: {:.3f}..\".format(test_loss/len(testloader)),\n",
    "            \"test accuracy: {:.3f}\".format(accuracy/ len(testloader)))\n",
    "\n",
    "\n",
    "      \n",
    "\n",
    "\n",
    "\n"
   ]
  },
  {
   "cell_type": "code",
   "execution_count": 0,
   "metadata": {
    "colab": {},
    "colab_type": "code",
    "id": "sLDF8Ft-W03H"
   },
   "outputs": [],
   "source": [
    "import matplotlib.pyplot as plt"
   ]
  },
  {
   "cell_type": "code",
   "execution_count": 0,
   "metadata": {
    "colab": {
     "base_uri": "https://localhost:8080/",
     "height": 282
    },
    "colab_type": "code",
    "id": "eh5hhtoVW3mm",
    "outputId": "6e455426-1754-4b20-806d-6d27f0a8d681"
   },
   "outputs": [
    {
     "data": {
      "text/plain": [
       "<matplotlib.legend.Legend at 0x7f26e1c54358>"
      ]
     },
     "execution_count": 26,
     "metadata": {
      "tags": []
     },
     "output_type": "execute_result"
    },
    {
     "data": {
      "image/png": "[encoded data removed]",
      "text/plain": [
       "<Figure size 432x288 with 1 Axes>"
      ]
     },
     "metadata": {
      "needs_background": "light",
      "tags": []
     },
     "output_type": "display_data"
    }
   ],
   "source": [
    "plt.plot(train_losses, label ='Training loss')\n",
    "plt.plot(test_losses, label ='Validation loss')\n",
    "plt.legend()"
   ]
  },
  {
   "cell_type": "code",
   "execution_count": 0,
   "metadata": {
    "colab": {
     "base_uri": "https://localhost:8080/",
     "height": 243
    },
    "colab_type": "code",
    "id": "HzbbdzKYXtYW",
    "outputId": "b1d4a9ce-525a-41a0-d728-3ac2b10bfc95"
   },
   "outputs": [
    {
     "name": "stdout",
     "output_type": "stream",
     "text": [
      "Our Model: \n",
      "\n",
      " Classifier(\n",
      "  (fc1): Linear(in_features=784, out_features=256, bias=True)\n",
      "  (fc2): Linear(in_features=256, out_features=128, bias=True)\n",
      "  (fc3): Linear(in_features=128, out_features=64, bias=True)\n",
      "  (fc4): Linear(in_features=64, out_features=10, bias=True)\n",
      "  (dropout): Dropout(p=0.2, inplace=False)\n",
      ") \n",
      "\n",
      "The stae dict keys: \n",
      " \n",
      " odict_keys(['fc1.weight', 'fc1.bias', 'fc2.weight', 'fc2.bias', 'fc3.weight', 'fc3.bias', 'fc4.weight', 'fc4.bias'])\n"
     ]
    }
   ],
   "source": [
    "print(\"Our Model: \\n\\n\", model, '\\n')\n",
    "print(\"The stae dict keys: \\n \\n\", model.state_dict().keys())"
   ]
  },
  {
   "cell_type": "code",
   "execution_count": 0,
   "metadata": {
    "colab": {},
    "colab_type": "code",
    "id": "5KpvWXXqYNf2"
   },
   "outputs": [],
   "source": [
    "torch.save(model.state_dict(), 'checkpoint.pth')"
   ]
  },
  {
   "cell_type": "code",
   "execution_count": 0,
   "metadata": {
    "colab": {
     "base_uri": "https://localhost:8080/",
     "height": 34
    },
    "colab_type": "code",
    "id": "nqVOii2NYYfr",
    "outputId": "887e208e-9994-421b-90cb-34b31223edef"
   },
   "outputs": [
    {
     "name": "stdout",
     "output_type": "stream",
     "text": [
      "<built-in method keys of collections.OrderedDict object at 0x7f26945bad90>\n"
     ]
    }
   ],
   "source": [
    "#loading\n",
    "state_dict = torch.load('checkpoint.pth')\n",
    "print(state_dict.keys)"
   ]
  },
  {
   "cell_type": "code",
   "execution_count": 0,
   "metadata": {
    "colab": {
     "base_uri": "https://localhost:8080/",
     "height": 34
    },
    "colab_type": "code",
    "id": "Wax4sbqhYfEF",
    "outputId": "61264a37-2477-4ef1-83bf-21874f56d65c"
   },
   "outputs": [
    {
     "data": {
      "text/plain": [
       "<All keys matched successfully>"
      ]
     },
     "execution_count": 30,
     "metadata": {
      "tags": []
     },
     "output_type": "execute_result"
    }
   ],
   "source": [
    "model.load_state_dict(state_dict)"
   ]
  },
  {
   "cell_type": "code",
   "execution_count": 0,
   "metadata": {
    "colab": {},
    "colab_type": "code",
    "id": "HY_I97PbYl8a"
   },
   "outputs": [],
   "source": []
  }
 ],
 "metadata": {
  "colab": {
   "name": "Fashion_MNIST.ipynb",
   "provenance": []
  },
  "kernelspec": {
   "display_name": "Python 3",
   "language": "python",
   "name": "python3"
  },
  "language_info": {
   "codemirror_mode": {
    "name": "ipython",
    "version": 3
   },
   "file_extension": ".py",
   "mimetype": "text/x-python",
   "name": "python",
   "nbconvert_exporter": "python",
   "pygments_lexer": "ipython3",
   "version": "3.7.4"
  }
 },
 "nbformat": 4,
 "nbformat_minor": 1
}
