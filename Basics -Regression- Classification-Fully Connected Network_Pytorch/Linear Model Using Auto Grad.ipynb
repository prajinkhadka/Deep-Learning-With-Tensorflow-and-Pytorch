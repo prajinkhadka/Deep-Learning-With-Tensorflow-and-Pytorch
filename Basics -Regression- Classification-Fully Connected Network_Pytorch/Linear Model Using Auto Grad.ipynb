{
 "cells": [
  {
   "cell_type": "markdown",
   "metadata": {},
   "source": [
    "Lets brush up out knlwdlege of pytorch, autograd to create a Linear model for a toy dataset."
   ]
  },
  {
   "cell_type": "code",
   "execution_count": 35,
   "metadata": {},
   "outputs": [],
   "source": [
    "import numpy as np\n",
    "import torch\n",
    "import matplotlib.pyplot as plt"
   ]
  },
  {
   "cell_type": "code",
   "execution_count": 4,
   "metadata": {},
   "outputs": [],
   "source": [
    "x_train = np.array([[4.7], [2.4], [7.5], [7.1], [4.3], [7.816], [8.9],\n",
    "                  [5.2], [8.59], [2.1], [8.0], [10.0], [4.5], [6.0], [4.0]], dtype= np.float32)\n",
    "\n",
    "y_train = np.array([[2.6], [1.6], [3.09], [2.4], [2.4], [3.357], [2.6],\n",
    "                  [1.96], [3.53], [1.76], [3.2], [3.5], [1.6], [2.5], [2.2]], dtype= np.float32)"
   ]
  },
  {
   "cell_type": "code",
   "execution_count": 5,
   "metadata": {},
   "outputs": [
    {
     "data": {
      "text/plain": [
       "<matplotlib.legend.Legend at 0x7f9477bd1d00>"
      ]
     },
     "execution_count": 5,
     "metadata": {},
     "output_type": "execute_result"
    },
    {
     "data": {
      "image/png": "[encoded data removed]",
      "text/plain": [
       "<Figure size 576x432 with 1 Axes>"
      ]
     },
     "metadata": {
      "needs_background": "light"
     },
     "output_type": "display_data"
    }
   ],
   "source": [
    "plt.figure(figsize=(8,6))\n",
    "\n",
    "plt.scatter(x_train, y_train, label='original data', s =250, c='g')\n",
    "\n",
    "plt.legend()"
   ]
  },
  {
   "cell_type": "code",
   "execution_count": 6,
   "metadata": {},
   "outputs": [],
   "source": [
    "# firs step is to convert the numpy arrats to tensors"
   ]
  },
  {
   "cell_type": "code",
   "execution_count": 7,
   "metadata": {},
   "outputs": [],
   "source": [
    "x_train = torch.from_numpy(x_train)\n",
    "y_train = torch.from_numpy(y_train)"
   ]
  },
  {
   "cell_type": "code",
   "execution_count": 8,
   "metadata": {},
   "outputs": [
    {
     "name": "stdout",
     "output_type": "stream",
     "text": [
      "False\n",
      "False\n"
     ]
    }
   ],
   "source": [
    "print(x_train.requires_grad)\n",
    "print(y_train.requires_grad)"
   ]
  },
  {
   "cell_type": "code",
   "execution_count": 9,
   "metadata": {},
   "outputs": [],
   "source": [
    "input_size =1\n",
    "hidden_size =1 \n",
    "output_size =1\n"
   ]
  },
  {
   "cell_type": "code",
   "execution_count": 12,
   "metadata": {},
   "outputs": [
    {
     "name": "stdout",
     "output_type": "stream",
     "text": [
      "torch.Size([1, 1])\n"
     ]
    }
   ],
   "source": [
    "w1 = torch.rand(input_size, hidden_size, requires_grad = True)\n",
    "print(w1.shape)"
   ]
  },
  {
   "cell_type": "code",
   "execution_count": 13,
   "metadata": {},
   "outputs": [
    {
     "name": "stdout",
     "output_type": "stream",
     "text": [
      "torch.Size([1, 1])\n"
     ]
    }
   ],
   "source": [
    "w2 = torch.rand(hidden_size, output_size, requires_grad = True)\n",
    "print(w2.shape)"
   ]
  },
  {
   "cell_type": "code",
   "execution_count": 14,
   "metadata": {},
   "outputs": [],
   "source": [
    "learning_rate = 1e-6"
   ]
  },
  {
   "cell_type": "code",
   "execution_count": 27,
   "metadata": {},
   "outputs": [
    {
     "name": "stdout",
     "output_type": "stream",
     "text": [
      "0 27.209922790527344\n",
      "50 26.01861572265625\n",
      "100 24.862417221069336\n",
      "150 23.742416381835938\n",
      "200 22.659528732299805\n",
      "250 21.614477157592773\n",
      "300 20.607810974121094\n",
      "350 19.639934539794922\n",
      "400 18.711009979248047\n",
      "450 17.821107864379883\n",
      "500 16.9700927734375\n",
      "550 16.1577205657959\n",
      "600 15.383567810058594\n",
      "650 14.647111892700195\n",
      "700 13.947680473327637\n",
      "750 13.284527778625488\n",
      "800 12.6567964553833\n",
      "850 12.063515663146973\n",
      "900 11.503691673278809\n",
      "950 10.976232528686523\n",
      "1000 10.480008125305176\n",
      "1050 10.013853073120117\n",
      "1100 9.576567649841309\n",
      "1150 9.16693115234375\n",
      "1200 8.783708572387695\n",
      "1250 8.425663948059082\n",
      "1300 8.091583251953125\n",
      "1350 7.780232906341553\n",
      "1400 7.490419864654541\n",
      "1450 7.220968723297119\n",
      "1500 6.970729827880859\n",
      "1550 6.738593101501465\n",
      "1600 6.523473739624023\n",
      "1650 6.32432222366333\n",
      "1700 6.140137195587158\n",
      "1750 5.969959259033203\n",
      "1800 5.812866687774658\n",
      "1850 5.667984962463379\n",
      "1900 5.534460544586182\n",
      "1950 5.411525249481201\n",
      "2000 5.29842472076416\n",
      "2050 5.19445276260376\n",
      "2100 5.098936080932617\n",
      "2150 5.01125431060791\n",
      "2200 4.930815696716309\n",
      "2250 4.857069969177246\n",
      "2300 4.7895026206970215\n",
      "2350 4.727633476257324\n",
      "2400 4.671015739440918\n",
      "2450 4.619224548339844\n",
      "2500 4.5718841552734375\n",
      "2550 4.528628826141357\n",
      "2600 4.489123821258545\n",
      "2650 4.45306396484375\n",
      "2700 4.420160293579102\n",
      "2750 4.3901519775390625\n",
      "2800 4.362794399261475\n",
      "2850 4.337862014770508\n",
      "2900 4.31514835357666\n",
      "2950 4.29446268081665\n",
      "3000 4.275630474090576\n",
      "3050 4.258491039276123\n",
      "3100 4.2428975105285645\n",
      "3150 4.2287163734436035\n",
      "3200 4.215821743011475\n",
      "3250 4.204101085662842\n",
      "3300 4.193448066711426\n",
      "3350 4.1837687492370605\n",
      "3400 4.174978256225586\n",
      "3450 4.166993618011475\n",
      "3500 4.1597442626953125\n",
      "3550 4.153163433074951\n",
      "3600 4.147190570831299\n",
      "3650 4.141769886016846\n",
      "3700 4.136853218078613\n",
      "3750 4.132392406463623\n",
      "3800 4.128345966339111\n",
      "3850 4.124677658081055\n",
      "3900 4.1213507652282715\n",
      "3950 4.118335247039795\n",
      "4000 4.115602016448975\n",
      "4050 4.113124370574951\n",
      "4100 4.110877990722656\n",
      "4150 4.1088433265686035\n",
      "4200 4.107000350952148\n",
      "4250 4.105329513549805\n",
      "4300 4.103816986083984\n",
      "4350 4.102445602416992\n",
      "4400 4.1012043952941895\n",
      "4450 4.1000800132751465\n",
      "4500 4.099061965942383\n",
      "4550 4.098140716552734\n",
      "4600 4.097305774688721\n",
      "4650 4.096550464630127\n",
      "4700 4.0958662033081055\n",
      "4750 4.0952467918396\n",
      "4800 4.094686508178711\n",
      "4850 4.094179153442383\n",
      "4900 4.093719959259033\n",
      "4950 4.09330415725708\n",
      "5000 4.092928409576416\n",
      "5050 4.092587471008301\n",
      "5100 4.092279434204102\n",
      "5150 4.092000961303711\n",
      "5200 4.09174919128418\n",
      "5250 4.0915207862854\n",
      "5300 4.09131383895874\n",
      "5350 4.091127395629883\n",
      "5400 4.090958118438721\n",
      "5450 4.0908050537109375\n",
      "5500 4.090667724609375\n",
      "5550 4.090541839599609\n",
      "5600 4.090428352355957\n",
      "5650 4.090325832366943\n",
      "5700 4.09023380279541\n",
      "5750 4.090150356292725\n",
      "5800 4.0900750160217285\n",
      "5850 4.090005397796631\n",
      "5900 4.089943885803223\n",
      "5950 4.089887619018555\n",
      "6000 4.089836597442627\n",
      "6050 4.089791774749756\n",
      "6100 4.089748859405518\n",
      "6150 4.089712619781494\n",
      "6200 4.089677333831787\n",
      "6250 4.089648723602295\n",
      "6300 4.089619159698486\n",
      "6350 4.08959436416626\n",
      "6400 4.089571475982666\n",
      "6450 4.089550495147705\n",
      "6500 4.08953332901001\n",
      "6550 4.089515686035156\n",
      "6600 4.089500904083252\n",
      "6650 4.0894880294799805\n",
      "6700 4.089474678039551\n",
      "6750 4.089463233947754\n",
      "6800 4.08945369720459\n",
      "6850 4.089444160461426\n",
      "6900 4.089435577392578\n",
      "6950 4.089427947998047\n",
      "7000 4.08942174911499\n",
      "7050 4.089415073394775\n",
      "7100 4.089409351348877\n",
      "7150 4.089404582977295\n",
      "7200 4.089400291442871\n",
      "7250 4.089396953582764\n",
      "7300 4.089393138885498\n",
      "7350 4.089389801025391\n",
      "7400 4.089385986328125\n",
      "7450 4.089383125305176\n",
      "7500 4.089380264282227\n",
      "7550 4.089378833770752\n",
      "7600 4.089376926422119\n",
      "7650 4.08937406539917\n",
      "7700 4.089372634887695\n",
      "7750 4.089372158050537\n",
      "7800 4.0893707275390625\n",
      "7850 4.089369297027588\n",
      "7900 4.089367389678955\n",
      "7950 4.089367389678955\n",
      "8000 4.089365005493164\n",
      "8050 4.089365005493164\n",
      "8100 4.089364051818848\n",
      "8150 4.089364051818848\n",
      "8200 4.089363098144531\n",
      "8250 4.089363098144531\n",
      "8300 4.089362144470215\n",
      "8350 4.089361667633057\n",
      "8400 4.089361667633057\n",
      "8450 4.089361190795898\n",
      "8500 4.08936071395874\n",
      "8550 4.08936071395874\n",
      "8600 4.089360237121582\n",
      "8650 4.089359760284424\n",
      "8700 4.089359283447266\n",
      "8750 4.089359760284424\n",
      "8800 4.089358806610107\n",
      "8850 4.089358329772949\n",
      "8900 4.089358806610107\n",
      "8950 4.089357852935791\n",
      "9000 4.089357376098633\n",
      "9050 4.089358806610107\n",
      "9100 4.089358806610107\n",
      "9150 4.089358806610107\n",
      "9200 4.089358806610107\n",
      "9250 4.089358806610107\n",
      "9300 4.089358806610107\n",
      "9350 4.089358806610107\n",
      "9400 4.089358806610107\n",
      "9450 4.089358806610107\n",
      "9500 4.089358806610107\n",
      "9550 4.089358806610107\n",
      "9600 4.089358806610107\n",
      "9650 4.089358806610107\n",
      "9700 4.089358806610107\n",
      "9750 4.089358806610107\n",
      "9800 4.089358806610107\n",
      "9850 4.089358806610107\n",
      "9900 4.089358806610107\n",
      "9950 4.089358806610107\n"
     ]
    }
   ],
   "source": [
    "for iter in range(0,10000):\n",
    "    y_pred =x_train.mm(w1).mm(w2)\n",
    "    loss = (y_pred - y_train).pow(2).sum()\n",
    "    \n",
    "    \n",
    "    if iter % 50 ==0:\n",
    "        print(iter, loss.item())\n",
    "        \n",
    "    loss.backward()\n",
    "    with torch.no_grad():\n",
    "        w1 -= learning_rate * w1.grad\n",
    "        w2 -= learning_rate * w2.grad\n",
    "        \n",
    "        w1.grad.zero_()\n",
    "        w2.grad.zero_()\n",
    "        "
   ]
  },
  {
   "cell_type": "code",
   "execution_count": 28,
   "metadata": {},
   "outputs": [
    {
     "data": {
      "text/plain": [
       "tensor([[0.6323]], requires_grad=True)"
      ]
     },
     "execution_count": 28,
     "metadata": {},
     "output_type": "execute_result"
    }
   ],
   "source": [
    "w1"
   ]
  },
  {
   "cell_type": "code",
   "execution_count": 29,
   "metadata": {},
   "outputs": [
    {
     "data": {
      "text/plain": [
       "tensor([[0.6272]], requires_grad=True)"
      ]
     },
     "execution_count": 29,
     "metadata": {},
     "output_type": "execute_result"
    }
   ],
   "source": [
    "w2"
   ]
  },
  {
   "cell_type": "code",
   "execution_count": 30,
   "metadata": {},
   "outputs": [
    {
     "data": {
      "text/plain": [
       "tensor([[ 4.7000],\n",
       "        [ 2.4000],\n",
       "        [ 7.5000],\n",
       "        [ 7.1000],\n",
       "        [ 4.3000],\n",
       "        [ 7.8160],\n",
       "        [ 8.9000],\n",
       "        [ 5.2000],\n",
       "        [ 8.5900],\n",
       "        [ 2.1000],\n",
       "        [ 8.0000],\n",
       "        [10.0000],\n",
       "        [ 4.5000],\n",
       "        [ 6.0000],\n",
       "        [ 4.0000]])"
      ]
     },
     "execution_count": 30,
     "metadata": {},
     "output_type": "execute_result"
    }
   ],
   "source": [
    "x_train"
   ]
  },
  {
   "cell_type": "code",
   "execution_count": 31,
   "metadata": {},
   "outputs": [
    {
     "data": {
      "text/plain": [
       "tensor([[1.8640],\n",
       "        [0.9519],\n",
       "        [2.9745],\n",
       "        [2.8159],\n",
       "        [1.7054],\n",
       "        [3.0999],\n",
       "        [3.5298],\n",
       "        [2.0623],\n",
       "        [3.4068],\n",
       "        [0.8329],\n",
       "        [3.1728],\n",
       "        [3.9661],\n",
       "        [1.7847],\n",
       "        [2.3796],\n",
       "        [1.5864]], grad_fn=<MmBackward>)"
      ]
     },
     "execution_count": 31,
     "metadata": {},
     "output_type": "execute_result"
    }
   ],
   "source": [
    "predicted_in_tensor = x_train.mm(w1).mm(w2)\n",
    "predicted_in_tensor"
   ]
  },
  {
   "cell_type": "code",
   "execution_count": 32,
   "metadata": {},
   "outputs": [],
   "source": [
    "predicted = predicted_in_tensor.detach().numpy()"
   ]
  },
  {
   "cell_type": "code",
   "execution_count": 33,
   "metadata": {},
   "outputs": [
    {
     "data": {
      "text/plain": [
       "array([[1.8640462],\n",
       "       [0.9518534],\n",
       "       [2.974542 ],\n",
       "       [2.8158996],\n",
       "       [1.7054042],\n",
       "       [3.0998693],\n",
       "       [3.5297894],\n",
       "       [2.062349 ],\n",
       "       [3.406842 ],\n",
       "       [0.8328717],\n",
       "       [3.1728446],\n",
       "       [3.966056 ],\n",
       "       [1.7847252],\n",
       "       [2.3796334],\n",
       "       [1.5864223]], dtype=float32)"
      ]
     },
     "execution_count": 33,
     "metadata": {},
     "output_type": "execute_result"
    }
   ],
   "source": [
    "predicted"
   ]
  },
  {
   "cell_type": "code",
   "execution_count": 34,
   "metadata": {},
   "outputs": [
    {
     "data": {
      "text/plain": [
       "[<matplotlib.lines.Line2D at 0x7f9471b462b0>]"
      ]
     },
     "execution_count": 34,
     "metadata": {},
     "output_type": "execute_result"
    },
    {
     "data": {
      "image/png": "[encoded data removed]",
      "text/plain": [
       "<Figure size 576x432 with 1 Axes>"
      ]
     },
     "metadata": {
      "needs_background": "light"
     },
     "output_type": "display_data"
    }
   ],
   "source": [
    "plt.figure(figsize=(8,6))\n",
    "\n",
    "plt.scatter(x_train, y_train, label ='Original data')\n",
    "plt.plot(x_train, predicted, label = 'fittted line')"
   ]
  },
  {
   "cell_type": "code",
   "execution_count": null,
   "metadata": {},
   "outputs": [],
   "source": []
  },
  {
   "cell_type": "code",
   "execution_count": null,
   "metadata": {},
   "outputs": [],
   "source": []
  }
 ],
 "metadata": {
  "kernelspec": {
   "display_name": "Python 3",
   "language": "python",
   "name": "python3"
  },
  "language_info": {
   "codemirror_mode": {
    "name": "ipython",
    "version": 3
   },
   "file_extension": ".py",
   "mimetype": "text/x-python",
   "name": "python",
   "nbconvert_exporter": "python",
   "pygments_lexer": "ipython3",
   "version": "3.7.4"
  }
 },
 "nbformat": 4,
 "nbformat_minor": 4
}
